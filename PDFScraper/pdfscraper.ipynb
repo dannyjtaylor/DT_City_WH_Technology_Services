{
 "cells": [
  {
   "cell_type": "code",
   "execution_count": 1,
   "id": "21dfbc71",
   "metadata": {},
   "outputs": [
    {
     "name": "stdout",
     "output_type": "stream",
     "text": [
      "Requirement already satisfied: PyPDF2 in c:\\users\\dtaylor\\appdata\\local\\programs\\python\\python313\\lib\\site-packages (3.0.1)\n",
      "Requirement already satisfied: pillow in c:\\users\\dtaylor\\appdata\\local\\programs\\python\\python313\\lib\\site-packages (11.2.1)\n",
      "Requirement already satisfied: pyinstaller in c:\\users\\dtaylor\\appdata\\local\\programs\\python\\python313\\lib\\site-packages (6.14.0)\n",
      "Requirement already satisfied: setuptools>=42.0.0 in c:\\users\\dtaylor\\appdata\\local\\programs\\python\\python313\\lib\\site-packages (from pyinstaller) (80.9.0)\n",
      "Requirement already satisfied: altgraph in c:\\users\\dtaylor\\appdata\\local\\programs\\python\\python313\\lib\\site-packages (from pyinstaller) (0.17.4)\n",
      "Requirement already satisfied: pefile!=2024.8.26,>=2022.5.30 in c:\\users\\dtaylor\\appdata\\local\\programs\\python\\python313\\lib\\site-packages (from pyinstaller) (2023.2.7)\n",
      "Requirement already satisfied: pywin32-ctypes>=0.2.1 in c:\\users\\dtaylor\\appdata\\local\\programs\\python\\python313\\lib\\site-packages (from pyinstaller) (0.2.3)\n",
      "Requirement already satisfied: pyinstaller-hooks-contrib>=2025.4 in c:\\users\\dtaylor\\appdata\\local\\programs\\python\\python313\\lib\\site-packages (from pyinstaller) (2025.4)\n",
      "Requirement already satisfied: packaging>=22.0 in c:\\users\\dtaylor\\appdata\\roaming\\python\\python313\\site-packages (from pyinstaller) (24.2)\n",
      "Note: you may need to restart the kernel to use updated packages.\n"
     ]
    }
   ],
   "source": [
    "# Install required libraries (only needs to be run once)\n",
    "%pip install PyPDF2 pillow pyinstaller\n"
   ]
  },
  {
   "cell_type": "markdown",
   "id": "3c2d74de",
   "metadata": {},
   "source": []
  },
  {
   "cell_type": "markdown",
   "id": "f80eee6e",
   "metadata": {},
   "source": [
    "PDF Scraper!"
   ]
  },
  {
   "cell_type": "code",
   "execution_count": 2,
   "id": "8391964d",
   "metadata": {},
   "outputs": [],
   "source": [
    "import re\n",
    "import csv\n",
    "import PyPDF2"
   ]
  },
  {
   "cell_type": "markdown",
   "id": "5f8e44cd",
   "metadata": {},
   "source": [
    "morgana icon  "
   ]
  },
  {
   "cell_type": "code",
   "execution_count": 3,
   "id": "cfd43fed",
   "metadata": {},
   "outputs": [
    {
     "data": {
      "image/png": "[encoded data removed]",
      "text/plain": [
       "<PIL.WebPImagePlugin.WebPImageFile image mode=RGBA size=189x221>"
      ]
     },
     "metadata": {},
     "output_type": "display_data"
    },
    {
     "name": "stdout",
     "output_type": "stream",
     "text": [
      "Converted to morgana.ico ✅\n"
     ]
    }
   ],
   "source": [
    "from IPython.display import display\n",
    "from PIL import Image\n",
    "\n",
    "# Load and preview morgana.png if already in your working directory\n",
    "img = Image.open(\"morgana.png\")\n",
    "display(img)\n",
    "ico_path = \"morgana.ico\"\n",
    "img.save(ico_path)\n",
    "print(\"Converted to morgana.ico ✅\")\n",
    "\n"
   ]
  },
  {
   "cell_type": "code",
   "execution_count": null,
   "id": "f8dfa0e9",
   "metadata": {},
   "outputs": [
    {
     "name": "stdout",
     "output_type": "stream",
     "text": [
      "Saved lab_parser_gui.py ✅\n"
     ]
    },
    {
     "name": "stderr",
     "output_type": "stream",
     "text": [
      "<>:2: SyntaxWarning: invalid escape sequence '\\d'\n",
      "<>:2: SyntaxWarning: invalid escape sequence '\\d'\n",
      "C:\\Users\\dtaylor\\AppData\\Local\\Temp\\ipykernel_35800\\3799008331.py:2: SyntaxWarning: invalid escape sequence '\\d'\n",
      "  script_code = '''import re\n"
     ]
    }
   ],
   "source": [
    "# Save your main parsing script as lab_parser_gui.py\n",
    "script_code = '''import re\n",
    "import csv\n",
    "import PyPDF2\n",
    "\n",
    "# Updated CSV headers with case sensitivity as provided\n",
    "csv_headers = [\n",
    "    \"Client Name\", \"Area Name\", \"Site Name\", \"Manhole Name\", \"sample id\", \"Sampling Date\", \"Collection Time\", \"Sector\", \"Automated S.\",\n",
    "    \"Sampling Type\", \"Lab Name\", \"pH (Field Measurement)\", \"EC (Field Measurement)\", \"ORP (Field Measurement)\", \"Temperature (Field Measurement)\",\n",
    "    \"name/Parameter\", \"is_exceeded\", \"value\", \"units\", \"NVL (Log10)\", \"Manhole ID\", \"Gis ID\", \"WWTP\", \"Below detection limit\",\n",
    "    \"No analysis was performed\"\n",
    "]\n",
    "\n",
    "# Function to extract text from PDF\n",
    "def extract_pdf_text(pdf_path):\n",
    "    text = \"\"\n",
    "    with open(pdf_path, 'rb') as file:\n",
    "        reader = PyPDF2.PdfReader(file)\n",
    "        for page in reader.pages:\n",
    "            page_text = page.extract_text()\n",
    "            if page_text:\n",
    "                text += page_text + \"\\n\"\n",
    "    return text\n",
    "\n",
    "\n",
    "# Function to extract key measurement values from text\n",
    "def parse_measurements(text):\n",
    "    def extract_value(pattern, default=\"\"):\n",
    "        match = re.search(pattern, text, re.IGNORECASE)\n",
    "        return match.group(1).strip() if match else default\n",
    "\n",
    "    return {\n",
    "        \"pH (Field Measurement)\": extract_value(r\"pH[^0-9]{0,10}([\\d.]+)\"),\n",
    "        \"EC (Field Measurement)\": extract_value(r\"(?:EC|Conductivity)[^0-9]{0,10}([\\d.]+)\"),\n",
    "        \"ORP (Field Measurement)\": extract_value(r\"ORP[^0-9]{0,10}([\\d.]+)\"),\n",
    "        \"Temperature (Field Measurement)\": extract_value(r\"(?:Temperature|Temp)[^0-9]{0,10}([\\d.]+)\")\n",
    "    }\n",
    "\n",
    "# Function to build a row using extracted data\n",
    "def generate_csv_row(parsed_data):\n",
    "    row = [\n",
    "        \"Client Name Placeholder\",  # Client Name\n",
    "        \"Area Name Placeholder\",    # Area Name\n",
    "        \"Site Name Placeholder\",    # Site Name\n",
    "        \"Manhole Name Placeholder\", # Manhole Name\n",
    "        \"Sample001\",                # sample id\n",
    "        \"2025-06-06\",               # Sampling Date\n",
    "        \"12:00\",                    # Collection Time\n",
    "        \"Sector A\",                 # Sector\n",
    "        \"No\",                       # Automated S.\n",
    "        \"Grab\",                     # Sampling Type\n",
    "        \"ABC Labs\",                 # Lab Name\n",
    "        parsed_data[\"pH (Field Measurement)\"],\n",
    "        parsed_data[\"EC (Field Measurement)\"],\n",
    "        parsed_data[\"ORP (Field Measurement)\"],\n",
    "        parsed_data[\"Temperature (Field Measurement)\"],\n",
    "        \"Ammonia\",                 # name/Parameter (example)\n",
    "        \"No\",                      # is_exceeded\n",
    "        \"0.15\",                    # value\n",
    "        \"mg/L\",                    # units\n",
    "        \"1.0\",                     # NVL (Log10)\n",
    "        \"MH001\",                   # Manhole ID\n",
    "        \"GIS-0001\",                # Gis ID\n",
    "        \"East WWTP\",               # WWTP\n",
    "        \"No\",                      # Below detection limit\n",
    "        \"No\"                       # No analysis was performed\n",
    "    ]\n",
    "    return row\n",
    "\n",
    "# Main function to run the script\n",
    "def convert_pdf_to_csv(pdf_path, output_csv_path):\n",
    "    text = extract_pdf_text(pdf_path)\n",
    "    parsed = parse_measurements(text)\n",
    "    row = generate_csv_row(parsed)\n",
    "\n",
    "    with open(output_csv_path, mode='w', newline='', encoding='utf-8') as f:\n",
    "        writer = csv.writer(f)\n",
    "        writer.writerow(csv_headers)\n",
    "        writer.writerow(row)\n",
    "\n",
    "    print(f\"CSV file saved to: {output_csv_path}\")\n",
    "\n",
    "# Example usage\n",
    "if __name__ == \"__main__\":\n",
    "    pdf_path = \"test.pdf\"  # Replace with your actual file\n",
    "    output_csv = \"output_lab_data2.csv\"\n",
    "    convert_pdf_to_csv(pdf_path, output_csv)'''\n",
    "\n",
    "with open(\"lab_parser_gui.py\", \"w\") as f:\n",
    "    f.write(script_code)\n",
    "\n",
    "print(\"Saved lab_parser_gui.py ✅\")\n"
   ]
  },
  {
   "cell_type": "markdown",
   "id": "573a3e0b",
   "metadata": {},
   "source": [
    "# testing code above   "
   ]
  },
  {
   "cell_type": "code",
   "execution_count": null,
   "id": "10b59541",
   "metadata": {},
   "outputs": [],
   "source": [
    "from PyPDF2 import PdfReader\n",
    "\n",
    "reader = PdfReader(\"test.pdf\")\n",
    "for page in reader.pages:\n",
    "    print(page.extract_text())\n"
   ]
  },
  {
   "cell_type": "markdown",
   "id": "256a7340",
   "metadata": {},
   "source": [
    "spec"
   ]
  },
  {
   "cell_type": "code",
   "execution_count": 8,
   "id": "13d38826",
   "metadata": {},
   "outputs": [
    {
     "name": "stdout",
     "output_type": "stream",
     "text": [
      "Spec file saved as lab_parser_gui.spec ✅\n"
     ]
    }
   ],
   "source": [
    "spec_content = \"\"\"\n",
    "block_cipher = None\n",
    "\n",
    "a = Analysis(\n",
    "    ['lab_parser_gui.py'],\n",
    "    pathex=[],\n",
    "    binaries=[],\n",
    "    datas=[],\n",
    "    hiddenimports=[],\n",
    "    hookspath=[],\n",
    "    runtime_hooks=[],\n",
    "    excludes=[],\n",
    "    win_no_prefer_redirects=False,\n",
    "    win_private_assemblies=False,\n",
    "    cipher=block_cipher,\n",
    ")\n",
    "\n",
    "pyz = PYZ(a.pure, a.zipped_data, cipher=block_cipher)\n",
    "\n",
    "exe = EXE(\n",
    "    pyz,\n",
    "    a.scripts,\n",
    "    [],\n",
    "    exclude_binaries=True,\n",
    "    name='LabParserApp',\n",
    "    icon='morgana.ico',\n",
    "    debug=False,\n",
    "    bootloader_ignore_signals=False,\n",
    "    strip=False,\n",
    "    upx=True,\n",
    "    console=False,\n",
    ")\n",
    "\n",
    "coll = COLLECT(\n",
    "    exe,\n",
    "    a.binaries,\n",
    "    a.zipfiles,\n",
    "    a.datas,\n",
    "    strip=False,\n",
    "    upx=True,\n",
    "    name='LabParserApp'\n",
    ")\n",
    "\"\"\"\n",
    "\n",
    "with open(\"lab_parser_gui.spec\", \"w\") as f:\n",
    "    f.write(spec_content.strip())\n",
    "\n",
    "print(\"Spec file saved as lab_parser_gui.spec ✅\")\n"
   ]
  },
  {
   "cell_type": "code",
   "execution_count": null,
   "id": "1d134385",
   "metadata": {},
   "outputs": [],
   "source": [
    "import re\n",
    "import csv\n",
    "import PyPDF2\n",
    "\n",
    "# Updated CSV headers with case sensitivity as provided\n",
    "csv_headers = [\n",
    "    \"Client Name\", \"Area Name\", \"Site Name\", \"Manhole Name\", \"sample id\", \"Sampling Date\", \"Collection Time\", \"Sector\", \"Automated S.\",\n",
    "    \"Sampling Type\", \"Lab Name\", \"pH (Field Measurement)\", \"EC (Field Measurement)\", \"ORP (Field Measurement)\", \"Temperature (Field Measurement)\",\n",
    "    \"name/Parameter\", \"is_exceeded\", \"value\", \"units\", \"NVL (Log10)\", \"Manhole ID\", \"Gis ID\", \"WWTP\", \"Below detection limit\",\n",
    "    \"No analysis was performed\"\n",
    "]\n",
    "\n",
    "# Function to extract text from PDF\n",
    "def extract_pdf_text(pdf_path):\n",
    "    text = \"\"\n",
    "    with open(pdf_path, 'rb') as file:\n",
    "        reader = PyPDF2.PdfReader(file)\n",
    "        for page in reader.pages:\n",
    "            text += page.extract_text() + \"\\n\"\n",
    "    return text\n",
    "\n",
    "# Function to extract key measurement values from text\n",
    "def parse_measurements(text):\n",
    "    def extract_value(pattern, default=\"\"):\n",
    "        match = re.search(pattern, text, re.IGNORECASE)\n",
    "        return match.group(1).strip() if match else default\n",
    "\n",
    "    return {\n",
    "        \"pH (Field Measurement)\": extract_value(r\"pH[^0-9]{0,10}([\\d.]+)\"),\n",
    "        \"EC (Field Measurement)\": extract_value(r\"(?:EC|Conductivity)[^0-9]{0,10}([\\d.]+)\"),\n",
    "        \"ORP (Field Measurement)\": extract_value(r\"ORP[^0-9]{0,10}([\\d.]+)\"),\n",
    "        \"Temperature (Field Measurement)\": extract_value(r\"(?:Temperature|Temp)[^0-9]{0,10}([\\d.]+)\")\n",
    "    }\n",
    "\n",
    "# Function to build a row using extracted data\n",
    "def generate_csv_row(parsed_data):\n",
    "    row = [\n",
    "        \"Client Name Placeholder\",  # Client Name\n",
    "        \"Area Name Placeholder\",    # Area Name\n",
    "        \"Site Name Placeholder\",    # Site Name\n",
    "        \"Manhole Name Placeholder\", # Manhole Name\n",
    "        \"Sample001\",                # sample id\n",
    "        \"2025-06-06\",               # Sampling Date\n",
    "        \"12:00\",                    # Collection Time\n",
    "        \"Sector A\",                 # Sector\n",
    "        \"No\",                       # Automated S.\n",
    "        \"Grab\",                     # Sampling Type\n",
    "        \"ABC Labs\",                 # Lab Name\n",
    "        parsed_data[\"pH (Field Measurement)\"],\n",
    "        parsed_data[\"EC (Field Measurement)\"],\n",
    "        parsed_data[\"ORP (Field Measurement)\"],\n",
    "        parsed_data[\"Temperature (Field Measurement)\"],\n",
    "        \"Ammonia\",                 # name/Parameter (example)\n",
    "        \"No\",                      # is_exceeded\n",
    "        \"0.15\",                    # value\n",
    "        \"mg/L\",                    # units\n",
    "        \"1.0\",                     # NVL (Log10)\n",
    "        \"MH001\",                   # Manhole ID\n",
    "        \"GIS-0001\",                # Gis ID\n",
    "        \"East WWTP\",               # WWTP\n",
    "        \"No\",                      # Below detection limit\n",
    "        \"No\"                       # No analysis was performed\n",
    "    ]\n",
    "    return row\n",
    "\n",
    "# Main function to run the script\n",
    "def convert_pdf_to_csv(pdf_path, output_csv_path):\n",
    "    text = extract_pdf_text(pdf_path)\n",
    "    parsed = parse_measurements(text)\n",
    "    row = generate_csv_row(parsed)\n",
    "\n",
    "    with open(output_csv_path, mode='w', newline='', encoding='utf-8') as f:\n",
    "        writer = csv.writer(f)\n",
    "        writer.writerow(csv_headers)\n",
    "        writer.writerow(row)\n",
    "\n",
    "    print(f\"CSV file saved to: {output_csv_path}\")\n",
    "\n",
    "# Example usage\n",
    "if __name__ == \"__main__\":\n",
    "    pdf_path = \"test.pdf\"  # Replace with your actual file\n",
    "    output_csv = \"output_lab_data2.csv\"\n",
    "    convert_pdf_to_csv(pdf_path, output_csv)"
   ]
  },
  {
   "cell_type": "markdown",
   "id": "f9c39cc4",
   "metadata": {},
   "source": [
    "Build  "
   ]
  },
  {
   "cell_type": "code",
   "execution_count": 9,
   "id": "3b4461e6",
   "metadata": {},
   "outputs": [
    {
     "name": "stderr",
     "output_type": "stream",
     "text": [
      "  File \u001b[35m\"c:\\Users\\dtaylor\\Documents\\GitHub\\DT_City_WH_Technology_Services\\lab_parser_gui.py\"\u001b[0m, line \u001b[35m19\u001b[0m\n",
      "    text += page.extract_text() + \u001b[1;31m\"\u001b[0m\n",
      "                                  \u001b[1;31m^\u001b[0m\n",
      "\u001b[1;35mSyntaxError\u001b[0m: \u001b[35munterminated string literal (detected at line 19)\u001b[0m\n"
     ]
    }
   ],
   "source": [
    "# Optional: Run the parser script directly to verify GUI functionality\n",
    "!python lab_parser_gui.py"
   ]
  },
  {
   "cell_type": "markdown",
   "id": "3aca6bc0",
   "metadata": {},
   "source": [
    "Now run \"pyinstaller lab_parser_gui.spec\" in the terminal!"
   ]
  },
  {
   "cell_type": "code",
   "execution_count": null,
   "id": "352d5655",
   "metadata": {},
   "outputs": [],
   "source": [
    "# pyinstaller lab_parser_gui.spec\n"
   ]
  }
 ],
 "metadata": {
  "kernelspec": {
   "display_name": "Python 3",
   "language": "python",
   "name": "python3"
  },
  "language_info": {
   "codemirror_mode": {
    "name": "ipython",
    "version": 3
   },
   "file_extension": ".py",
   "mimetype": "text/x-python",
   "name": "python",
   "nbconvert_exporter": "python",
   "pygments_lexer": "ipython3",
   "version": "3.13.2"
  }
 },
 "nbformat": 4,
 "nbformat_minor": 5
}
