{
 "cells": [
  {
   "cell_type": "markdown",
   "id": "f80eee6e",
   "metadata": {},
   "source": [
    "PDF Scraper!"
   ]
  },
  {
   "cell_type": "code",
   "execution_count": 1,
   "id": "8391964d",
   "metadata": {},
   "outputs": [],
   "source": [
    "import re\n",
    "import csv\n",
    "import PyPDF2"
   ]
  },
  {
   "cell_type": "markdown",
   "id": "5f8e44cd",
   "metadata": {},
   "source": [
    "morgana icon  "
   ]
  },
  {
   "cell_type": "code",
   "execution_count": 2,
   "id": "cfd43fed",
   "metadata": {},
   "outputs": [],
   "source": [
    "from PIL import Image\n",
    "img = Image.open(\"morgana.png\")\n",
    "img.save(\"morgana.ico\")"
   ]
  },
  {
   "cell_type": "markdown",
   "id": "256a7340",
   "metadata": {},
   "source": [
    "spec"
   ]
  },
  {
   "cell_type": "code",
   "execution_count": 5,
   "id": "13d38826",
   "metadata": {},
   "outputs": [
    {
     "ename": "NameError",
     "evalue": "name 'Analysis' is not defined",
     "output_type": "error",
     "traceback": [
      "\u001b[31m---------------------------------------------------------------------------\u001b[39m",
      "\u001b[31mNameError\u001b[39m                                 Traceback (most recent call last)",
      "\u001b[36mCell\u001b[39m\u001b[36m \u001b[39m\u001b[32mIn[5]\u001b[39m\u001b[32m, line 5\u001b[39m\n\u001b[32m      1\u001b[39m \u001b[38;5;66;03m# lab_parser_gui.spec\u001b[39;00m\n\u001b[32m      3\u001b[39m block_cipher = \u001b[38;5;28;01mNone\u001b[39;00m\n\u001b[32m----> \u001b[39m\u001b[32m5\u001b[39m a = \u001b[43mAnalysis\u001b[49m(\n\u001b[32m      6\u001b[39m     [\u001b[33m'\u001b[39m\u001b[33mpdfscraper.ipynb\u001b[39m\u001b[33m'\u001b[39m],\n\u001b[32m      7\u001b[39m     pathex=[],\n\u001b[32m      8\u001b[39m     binaries=[],\n\u001b[32m      9\u001b[39m     datas=[],\n\u001b[32m     10\u001b[39m     hiddenimports=[],\n\u001b[32m     11\u001b[39m     hookspath=[],\n\u001b[32m     12\u001b[39m     runtime_hooks=[],\n\u001b[32m     13\u001b[39m     excludes=[],\n\u001b[32m     14\u001b[39m     win_no_prefer_redirects=\u001b[38;5;28;01mFalse\u001b[39;00m,\n\u001b[32m     15\u001b[39m     win_private_assemblies=\u001b[38;5;28;01mFalse\u001b[39;00m,\n\u001b[32m     16\u001b[39m     cipher=block_cipher,\n\u001b[32m     17\u001b[39m )\n\u001b[32m     19\u001b[39m pyz = PYZ(a.pure, a.zipped_data, cipher=block_cipher)\n\u001b[32m     21\u001b[39m exe = EXE(\n\u001b[32m     22\u001b[39m     pyz,\n\u001b[32m     23\u001b[39m     a.scripts,\n\u001b[32m   (...)\u001b[39m\u001b[32m     32\u001b[39m     console=\u001b[38;5;28;01mFalse\u001b[39;00m  \u001b[38;5;66;03m# Hides console window (GUI only)\u001b[39;00m\n\u001b[32m     33\u001b[39m )\n",
      "\u001b[31mNameError\u001b[39m: name 'Analysis' is not defined"
     ]
    }
   ],
   "source": [
    "# lab_parser_gui.spec\n",
    "\n",
    "block_cipher = None\n",
    "\n",
    "a = Analysis(\n",
    "    ['pdfscraper.ipynb'],\n",
    "    pathex=[],\n",
    "    binaries=[],\n",
    "    datas=[],\n",
    "    hiddenimports=[],\n",
    "    hookspath=[],\n",
    "    runtime_hooks=[],\n",
    "    excludes=[],\n",
    "    win_no_prefer_redirects=False,\n",
    "    win_private_assemblies=False,\n",
    "    cipher=block_cipher,\n",
    ")\n",
    "\n",
    "pyz = PYZ(a.pure, a.zipped_data, cipher=block_cipher)\n",
    "\n",
    "exe = EXE(\n",
    "    pyz,\n",
    "    a.scripts,\n",
    "    [],\n",
    "    exclude_binaries=True,\n",
    "    name='LabParserApp',\n",
    "    icon='morgana.ico',  # <-- icon file (must be in the same directory)\n",
    "    debug=False,\n",
    "    bootloader_ignore_signals=False,\n",
    "    strip=False,\n",
    "    upx=True,\n",
    "    console=False  # Hides console window (GUI only)\n",
    ")\n",
    "\n",
    "coll = COLLECT(\n",
    "    exe,\n",
    "    a.binaries,\n",
    "    a.zipfiles,\n",
    "    a.datas,\n",
    "    strip=False,\n",
    "    upx=True,\n",
    "    name='LabParserApp'\n",
    ")\n"
   ]
  },
  {
   "cell_type": "code",
   "execution_count": 8,
   "id": "1d134385",
   "metadata": {},
   "outputs": [
    {
     "ename": "PermissionError",
     "evalue": "[Errno 13] Permission denied: 'output_lab_data.csv'",
     "output_type": "error",
     "traceback": [
      "\u001b[31m---------------------------------------------------------------------------\u001b[39m",
      "\u001b[31mPermissionError\u001b[39m                           Traceback (most recent call last)",
      "\u001b[36mCell\u001b[39m\u001b[36m \u001b[39m\u001b[32mIn[8]\u001b[39m\u001b[32m, line 83\u001b[39m\n\u001b[32m     81\u001b[39m pdf_path = \u001b[33m\"\u001b[39m\u001b[33mtest.pdf\u001b[39m\u001b[33m\"\u001b[39m  \u001b[38;5;66;03m# Replace with your actual file\u001b[39;00m\n\u001b[32m     82\u001b[39m output_csv = \u001b[33m\"\u001b[39m\u001b[33moutput_lab_data.csv\u001b[39m\u001b[33m\"\u001b[39m\n\u001b[32m---> \u001b[39m\u001b[32m83\u001b[39m \u001b[43mconvert_pdf_to_csv\u001b[49m\u001b[43m(\u001b[49m\u001b[43mpdf_path\u001b[49m\u001b[43m,\u001b[49m\u001b[43m \u001b[49m\u001b[43moutput_csv\u001b[49m\u001b[43m)\u001b[49m\n",
      "\u001b[36mCell\u001b[39m\u001b[36m \u001b[39m\u001b[32mIn[8]\u001b[39m\u001b[32m, line 72\u001b[39m, in \u001b[36mconvert_pdf_to_csv\u001b[39m\u001b[34m(pdf_path, output_csv_path)\u001b[39m\n\u001b[32m     69\u001b[39m parsed = parse_measurements(text)\n\u001b[32m     70\u001b[39m row = generate_csv_row(parsed)\n\u001b[32m---> \u001b[39m\u001b[32m72\u001b[39m \u001b[38;5;28;01mwith\u001b[39;00m \u001b[38;5;28;43mopen\u001b[39;49m\u001b[43m(\u001b[49m\u001b[43moutput_csv_path\u001b[49m\u001b[43m,\u001b[49m\u001b[43m \u001b[49m\u001b[43mmode\u001b[49m\u001b[43m=\u001b[49m\u001b[33;43m'\u001b[39;49m\u001b[33;43mw\u001b[39;49m\u001b[33;43m'\u001b[39;49m\u001b[43m,\u001b[49m\u001b[43m \u001b[49m\u001b[43mnewline\u001b[49m\u001b[43m=\u001b[49m\u001b[33;43m'\u001b[39;49m\u001b[33;43m'\u001b[39;49m\u001b[43m,\u001b[49m\u001b[43m \u001b[49m\u001b[43mencoding\u001b[49m\u001b[43m=\u001b[49m\u001b[33;43m'\u001b[39;49m\u001b[33;43mutf-8\u001b[39;49m\u001b[33;43m'\u001b[39;49m\u001b[43m)\u001b[49m \u001b[38;5;28;01mas\u001b[39;00m f:\n\u001b[32m     73\u001b[39m     writer = csv.writer(f)\n\u001b[32m     74\u001b[39m     writer.writerow(csv_headers)\n",
      "\u001b[36mFile \u001b[39m\u001b[32m~\\AppData\\Roaming\\Python\\Python313\\site-packages\\IPython\\core\\interactiveshell.py:326\u001b[39m, in \u001b[36m_modified_open\u001b[39m\u001b[34m(file, *args, **kwargs)\u001b[39m\n\u001b[32m    319\u001b[39m \u001b[38;5;28;01mif\u001b[39;00m file \u001b[38;5;129;01min\u001b[39;00m {\u001b[32m0\u001b[39m, \u001b[32m1\u001b[39m, \u001b[32m2\u001b[39m}:\n\u001b[32m    320\u001b[39m     \u001b[38;5;28;01mraise\u001b[39;00m \u001b[38;5;167;01mValueError\u001b[39;00m(\n\u001b[32m    321\u001b[39m         \u001b[33mf\u001b[39m\u001b[33m\"\u001b[39m\u001b[33mIPython won\u001b[39m\u001b[33m'\u001b[39m\u001b[33mt let you open fd=\u001b[39m\u001b[38;5;132;01m{\u001b[39;00mfile\u001b[38;5;132;01m}\u001b[39;00m\u001b[33m by default \u001b[39m\u001b[33m\"\u001b[39m\n\u001b[32m    322\u001b[39m         \u001b[33m\"\u001b[39m\u001b[33mas it is likely to crash IPython. If you know what you are doing, \u001b[39m\u001b[33m\"\u001b[39m\n\u001b[32m    323\u001b[39m         \u001b[33m\"\u001b[39m\u001b[33myou can use builtins\u001b[39m\u001b[33m'\u001b[39m\u001b[33m open.\u001b[39m\u001b[33m\"\u001b[39m\n\u001b[32m    324\u001b[39m     )\n\u001b[32m--> \u001b[39m\u001b[32m326\u001b[39m \u001b[38;5;28;01mreturn\u001b[39;00m \u001b[43mio_open\u001b[49m\u001b[43m(\u001b[49m\u001b[43mfile\u001b[49m\u001b[43m,\u001b[49m\u001b[43m \u001b[49m\u001b[43m*\u001b[49m\u001b[43margs\u001b[49m\u001b[43m,\u001b[49m\u001b[43m \u001b[49m\u001b[43m*\u001b[49m\u001b[43m*\u001b[49m\u001b[43mkwargs\u001b[49m\u001b[43m)\u001b[49m\n",
      "\u001b[31mPermissionError\u001b[39m: [Errno 13] Permission denied: 'output_lab_data.csv'"
     ]
    }
   ],
   "source": [
    "import re\n",
    "import csv\n",
    "import PyPDF2\n",
    "\n",
    "# Updated CSV headers with case sensitivity as provided\n",
    "csv_headers = [\n",
    "    \"Client Name\", \"Area Name\", \"Site Name\", \"Manhole Name\", \"sample id\", \"Sampling Date\", \"Collection Time\", \"Sector\", \"Automated S.\",\n",
    "    \"Sampling Type\", \"Lab Name\", \"pH (Field Measurement)\", \"EC (Field Measurement)\", \"ORP (Field Measurement)\", \"Temperature (Field Measurement)\",\n",
    "    \"name/Parameter\", \"is_exceeded\", \"value\", \"units\", \"NVL (Log10)\", \"Manhole ID\", \"Gis ID\", \"WWTP\", \"Below detection limit\",\n",
    "    \"No analysis was performed\"\n",
    "]\n",
    "\n",
    "# Function to extract text from PDF\n",
    "def extract_pdf_text(pdf_path):\n",
    "    text = \"\"\n",
    "    with open(pdf_path, 'rb') as file:\n",
    "        reader = PyPDF2.PdfReader(file)\n",
    "        for page in reader.pages:\n",
    "            text += page.extract_text() + \"\\n\"\n",
    "    return text\n",
    "\n",
    "# Function to extract key measurement values from text\n",
    "def parse_measurements(text):\n",
    "    def extract_value(pattern, default=\"\"):\n",
    "        match = re.search(pattern, text, re.IGNORECASE)\n",
    "        return match.group(1).strip() if match else default\n",
    "\n",
    "    return {\n",
    "        \"pH (Field Measurement)\": extract_value(r\"pH[^0-9]{0,10}([\\d.]+)\"),\n",
    "        \"EC (Field Measurement)\": extract_value(r\"(?:EC|Conductivity)[^0-9]{0,10}([\\d.]+)\"),\n",
    "        \"ORP (Field Measurement)\": extract_value(r\"ORP[^0-9]{0,10}([\\d.]+)\"),\n",
    "        \"Temperature (Field Measurement)\": extract_value(r\"(?:Temperature|Temp)[^0-9]{0,10}([\\d.]+)\")\n",
    "    }\n",
    "\n",
    "# Function to build a row using extracted data\n",
    "def generate_csv_row(parsed_data):\n",
    "    row = [\n",
    "        \"Client Name Placeholder\",  # Client Name\n",
    "        \"Area Name Placeholder\",    # Area Name\n",
    "        \"Site Name Placeholder\",    # Site Name\n",
    "        \"Manhole Name Placeholder\", # Manhole Name\n",
    "        \"Sample001\",                # sample id\n",
    "        \"2025-06-06\",               # Sampling Date\n",
    "        \"12:00\",                    # Collection Time\n",
    "        \"Sector A\",                 # Sector\n",
    "        \"No\",                       # Automated S.\n",
    "        \"Grab\",                     # Sampling Type\n",
    "        \"ABC Labs\",                 # Lab Name\n",
    "        parsed_data[\"pH (Field Measurement)\"],\n",
    "        parsed_data[\"EC (Field Measurement)\"],\n",
    "        parsed_data[\"ORP (Field Measurement)\"],\n",
    "        parsed_data[\"Temperature (Field Measurement)\"],\n",
    "        \"Ammonia\",                 # name/Parameter (example)\n",
    "        \"No\",                      # is_exceeded\n",
    "        \"0.15\",                    # value\n",
    "        \"mg/L\",                    # units\n",
    "        \"1.0\",                     # NVL (Log10)\n",
    "        \"MH001\",                   # Manhole ID\n",
    "        \"GIS-0001\",                # Gis ID\n",
    "        \"East WWTP\",               # WWTP\n",
    "        \"No\",                      # Below detection limit\n",
    "        \"No\"                       # No analysis was performed\n",
    "    ]\n",
    "    return row\n",
    "\n",
    "# Main function to run the script\n",
    "def convert_pdf_to_csv(pdf_path, output_csv_path):\n",
    "    text = extract_pdf_text(pdf_path)\n",
    "    parsed = parse_measurements(text)\n",
    "    row = generate_csv_row(parsed)\n",
    "\n",
    "    with open(output_csv_path, mode='w', newline='', encoding='utf-8') as f:\n",
    "        writer = csv.writer(f)\n",
    "        writer.writerow(csv_headers)\n",
    "        writer.writerow(row)\n",
    "\n",
    "    print(f\"CSV file saved to: {output_csv_path}\")\n",
    "\n",
    "# Example usage\n",
    "if __name__ == \"__main__\":\n",
    "    pdf_path = \"test.pdf\"  # Replace with your actual file\n",
    "    output_csv = \"output_lab_data.csv\"\n",
    "    convert_pdf_to_csv(pdf_path, output_csv)"
   ]
  }
 ],
 "metadata": {
  "kernelspec": {
   "display_name": "Python 3",
   "language": "python",
   "name": "python3"
  },
  "language_info": {
   "codemirror_mode": {
    "name": "ipython",
    "version": 3
   },
   "file_extension": ".py",
   "mimetype": "text/x-python",
   "name": "python",
   "nbconvert_exporter": "python",
   "pygments_lexer": "ipython3",
   "version": "3.13.2"
  }
 },
 "nbformat": 4,
 "nbformat_minor": 5
}
