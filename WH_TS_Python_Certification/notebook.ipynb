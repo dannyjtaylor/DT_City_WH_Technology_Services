{
 "cells": [
  {
   "cell_type": "markdown",
   "id": "b34627d3",
   "metadata": {},
   "source": [
    "# Hello! This is my Python notebook for the Python 2 Certification. All my notes, test programs, and labs will be stored here."
   ]
  },
  {
   "cell_type": "markdown",
   "id": "a89e89a7",
   "metadata": {},
   "source": [
    "# Error Handling"
   ]
  },
  {
   "cell_type": "code",
   "execution_count": 16,
   "id": "9ce115ae",
   "metadata": {},
   "outputs": [
    {
     "name": "stdout",
     "output_type": "stream",
     "text": [
      "zero\n"
     ]
    }
   ],
   "source": [
    "try:\n",
    "    print(\"alpha\"[4/0])\n",
    "except ZeroDivisionError:\n",
    "    print(\"zero\")\n",
    "except IndexError:\n",
    "    print(\"index\")\n",
    "except:\n",
    "    print(\"some\")"
   ]
  },
  {
   "cell_type": "code",
   "execution_count": 15,
   "id": "16b56511",
   "metadata": {},
   "outputs": [
    {
     "name": "stdout",
     "output_type": "stream",
     "text": [
      "You must enter an integer value.\n",
      "THE END.\n"
     ]
    }
   ],
   "source": [
    "try:\n",
    "    x = int(input(\"Enter a number: \"))\n",
    "    y = 1 / x\n",
    "    print(y)\n",
    "except ValueError:\n",
    "    print(\"You must enter an integer value.\")\n",
    "except:\n",
    "    print(\"Oh dear, something went wrong...\")\n",
    "\n",
    "print(\"THE END.\")"
   ]
  },
  {
   "cell_type": "markdown",
   "id": "627d07c0",
   "metadata": {},
   "source": [
    "# Error is not handled correctly here, and there isn't a general except block, so an error occurs!"
   ]
  },
  {
   "cell_type": "code",
   "execution_count": 4,
   "id": "355d9708",
   "metadata": {},
   "outputs": [
    {
     "name": "stdout",
     "output_type": "stream",
     "text": [
      "0.14285714285714285\n",
      "THE END.\n"
     ]
    }
   ],
   "source": [
    "try:\n",
    "    x = int(input(\"Enter a number: \"))\n",
    "    y = 1 / x\n",
    "    print(y)\n",
    "except ValueError:\n",
    "    print(\"You must enter an integer value.\")\n",
    "print(\"THE END.\")\n"
   ]
  },
  {
   "cell_type": "markdown",
   "id": "854bb95f",
   "metadata": {},
   "source": [
    "!image[C:\\Users\\dtaylor\\Pictures\\Screenshot 2025-04-17 100824.png]"
   ]
  },
  {
   "cell_type": "code",
   "execution_count": null,
   "id": "76a1ec5b",
   "metadata": {},
   "outputs": [],
   "source": []
  },
  {
   "cell_type": "markdown",
   "id": "62d9585b",
   "metadata": {},
   "source": [
    "# Built-in Exceptions\n",
    "ArithmeticError:\n",
    "Location: BaseException <- Exception <- ArithmeticError\n",
    "Any arithmetic operations exceptions like invalid domain or zero division\n",
    "\n",
    "AssertionError:\n",
    "Location: BaseException <- Exception <- AssertionError\n",
    "Argument evaluates to False, None, 0, or empty string\n",
    "\n",
    "BaseException:\n",
    "most abstract, includes all other exceptions.\n",
    "except:\n",
    "except BaseException:\n",
    "\n",
    "are equivalent\n",
    "\n",
    "\n",
    "LookupError:\n",
    "BaseException <- Exception <- LookupError\n",
    "abstract that includes all errors for invalid references to different collections (lists, dictionaries, tuples, etc)\n",
    "\n",
    "KeyError\n",
    "Location: BaseException ← Exception ← LookupError ← KeyError\n",
    "Description: a concrete exception raised when you try to access a collection's non-existent element (e.g., a dictionary's element)\n",
    "\n",
    "\n",
    "\n",
    "IndexError:\n",
    "BaseException <- Exception <- LookupError <- IndexError\n",
    "aaccessing a  non-existent seqeuence's element (basically index that doesnt exist)\n",
    "\n",
    "KeyboardInterrupt\n",
    "BaseException <- KeyboardInterrupt\n",
    "note this isnt in the Exception class, its just when u use the keyboard shorcut to terminate (like CtrlC)\n",
    "\n",
    "\n",
    "MemoryError:\n",
    "Location: BaseException ← Exception ← MemoryError\n",
    "concrete exception raised when an operation cannot be completed due to a lack of free memory\n",
    "\n",
    "OverflowError\n",
    "BaseException ← Exception ← ArithmeticError ← OverflowError\n",
    "concrete exception raised when an operation produces a number too big to be successfully stored\n",
    "\n",
    "ImportError:\n",
    "Location: BaseException ← Exception ← StandardError ← ImportError\n",
    "Description: a concrete exception raised when an import operation fail"
   ]
  },
  {
   "cell_type": "code",
   "execution_count": 6,
   "id": "005bed1b",
   "metadata": {},
   "outputs": [
    {
     "name": "stdout",
     "output_type": "stream",
     "text": [
      "One of your imports has failed.\n"
     ]
    }
   ],
   "source": [
    "# ImportError\n",
    "\n",
    "# One of these imports will fail - which one?\n",
    "\n",
    "try:\n",
    "    import math\n",
    "    import time\n",
    "    import abracadabra\n",
    "\n",
    "except:\n",
    "    print('One of your imports has failed.')"
   ]
  },
  {
   "cell_type": "code",
   "execution_count": 5,
   "id": "386f05d0",
   "metadata": {},
   "outputs": [
    {
     "name": "stdout",
     "output_type": "stream",
     "text": [
      "b\n",
      "c\n",
      "d\n",
      "No such key: d\n"
     ]
    }
   ],
   "source": [
    "#KeyError\n",
    "\n",
    "# How to abuse the dictionary\n",
    "# and how to deal with it?\n",
    "\n",
    "dictionary = { 'a': 'b', 'b': 'c', 'c': 'd' }\n",
    "ch = 'a'\n",
    "\n",
    "try:\n",
    "    while True:\n",
    "        ch = dictionary[ch]\n",
    "        print(ch)\n",
    "except KeyError:\n",
    "    print('No such key:', ch)"
   ]
  },
  {
   "cell_type": "markdown",
   "id": "ec2e110a",
   "metadata": {},
   "source": [
    "# Error Handling Lab\n",
    "<i>Objectives:</i>\n",
    "improving the student's skills in defining functions;\n",
    "using exceptions in order to provide a safe input environment.\n",
    "\n",
    "Scenario\n",
    "Your task is to write a function able to input integer values and to check if they are within a specified range.\n",
    "\n",
    "The function should:\n",
    "\n",
    "accept three arguments: a prompt, a low acceptable limit, and a high acceptable limit;\n",
    "if the user enters a string that is not an integer value, the function should emit the message Error: wrong input, and ask the user to input the value again;\n",
    "if the user enters a number which falls outside the specified range, the function should emit the message Error: the value is not within permitted range (min..max) and ask the user to input the value again;\n",
    "if the input value is valid, return it as a result.\n",
    "\n",
    "This is how the function should react to the user's input:\n",
    "\n",
    "Enter a number from -10 to 10: 100\n",
    "Error: the value is not within permitted range (-10..10)\n",
    "Enter a number from -10 to 10: asd\n",
    "Error: wrong input\n",
    "Enter number from -10 to 10: 1\n",
    "The number is: 1"
   ]
  },
  {
   "cell_type": "code",
   "execution_count": null,
   "id": "c9f0787d",
   "metadata": {},
   "outputs": [
    {
     "name": "stdout",
     "output_type": "stream",
     "text": [
      "Error: Wrong input!\n",
      "Error: Number entered is not within permitted range ( -10 . . . 10 )\n",
      "Error: Number entered is not within permitted range ( -10 . . . 10 )\n",
      "Error: Number entered is not within permitted range ( -10 . . . 10 )\n",
      "The number is:  3\n"
     ]
    }
   ],
   "source": [
    "def read_int(prompt, min, max):\n",
    "    try: \n",
    "        num = int(input(prompt))\n",
    "        if ((num < min) or (num > max)):\n",
    "            raise ArithmeticError\n",
    "        else:\n",
    "            return num\n",
    "    except ArithmeticError:\n",
    "        print(\"Error: Number entered is not within permitted range (\", min, \". . .\", max, \")\")\n",
    "        return read_int(prompt, min, max)\n",
    "    except:\n",
    "        print(\"Error: Wrong input!\")\n",
    "        return read_int(prompt, min, max)\n",
    "\n",
    "v = read_int(\"Enter a number from -10 to 10: \", -10, 10)\n",
    "print(\"The number is: \", v)"
   ]
  },
  {
   "cell_type": "markdown",
   "id": "18ce1aa1",
   "metadata": {},
   "source": [
    "# Object-Oriented Programming\n",
    "\n",
    "\n",
    "In this module, you will learn about:\n",
    "\n",
    "Basic concepts of object-oriented programming (OOP)\n",
    "The differences between the procedural and object approaches (motivations and profits)\n",
    "Classes, objects, properties, and methods;\n",
    "Designing reusable classes and creating objects;\n",
    "Inheritance and polymorphism;\n",
    "Exceptions as objects."
   ]
  },
  {
   "cell_type": "markdown",
   "id": "8d0e4ea6",
   "metadata": {},
   "source": [
    "# Notes\n",
    "classes are class [CLASSNAME]:, can't name an object \"class\" since its a keyword"
   ]
  },
  {
   "cell_type": "code",
   "execution_count": 18,
   "id": "01fa26a3",
   "metadata": {},
   "outputs": [
    {
     "name": "stdout",
     "output_type": "stream",
     "text": [
      "<__main__.TheSimplestClass object at 0x0000021DE59F96A0>\n"
     ]
    }
   ],
   "source": [
    "class TheSimplestClass:\n",
    "    pass\n",
    "\n",
    "my_first_object = TheSimplestClass()\n",
    "print(my_first_object)"
   ]
  },
  {
   "cell_type": "markdown",
   "id": "497e64bb",
   "metadata": {},
   "source": [
    "# Stack in Python\n",
    "push by stack.append(val)\n",
    "pop by \n",
    "val = stack[-1]\n",
    "del stack[-1]\n",
    "return val"
   ]
  },
  {
   "cell_type": "code",
   "execution_count": 4,
   "id": "7937416e",
   "metadata": {},
   "outputs": [
    {
     "name": "stdout",
     "output_type": "stream",
     "text": [
      "1\n",
      "2\n",
      "3\n"
     ]
    }
   ],
   "source": [
    "stack = []\n",
    "\n",
    "def push(val):\n",
    "    stack.append(val)\n",
    "\n",
    "\n",
    "def pop():\n",
    "    val = stack[-1]\n",
    "    del stack[-1]\n",
    "    return val\n",
    "\n",
    "\n",
    "push(3)\n",
    "push(2)\n",
    "push(1)\n",
    "\n",
    "print(pop())\n",
    "print(pop())\n",
    "print(pop())\n",
    "\n",
    "# The stack is empty now, so let's try to pop again"
   ]
  },
  {
   "cell_type": "code",
   "execution_count": 5,
   "id": "e3f617d2",
   "metadata": {},
   "outputs": [
    {
     "name": "stdout",
     "output_type": "stream",
     "text": [
      "Hi!\n"
     ]
    }
   ],
   "source": [
    "# Creating an Object\n",
    "class Stack:  # Defining the Stack class.\n",
    "    def __init__(self):  # Defining the constructor function.\n",
    "        print(\"Hi!\")\n",
    "\n",
    "\n",
    "stack_object = Stack()  # Instantiating the object.\n",
    "# constructor's name is always __init__, self is actually convention but always use it."
   ]
  },
  {
   "cell_type": "code",
   "execution_count": 6,
   "id": "a943fd45",
   "metadata": {},
   "outputs": [
    {
     "name": "stdout",
     "output_type": "stream",
     "text": [
      "0\n"
     ]
    }
   ],
   "source": [
    "class Stack:\n",
    "    def __init__(self):\n",
    "        self.stack_list = []\n",
    "\n",
    "\n",
    "stack_object = Stack()\n",
    "print(len(stack_object.stack_list))\n",
    "# prints 0, since the list (stack) is empty.\n",
    "# see how the dot operator is used to access the stack_list attribute of the object"
   ]
  },
  {
   "cell_type": "code",
   "execution_count": 7,
   "id": "19b29084",
   "metadata": {},
   "outputs": [
    {
     "ename": "AttributeError",
     "evalue": "'Stack' object has no attribute '__stack_list'",
     "output_type": "error",
     "traceback": [
      "\u001b[31m---------------------------------------------------------------------------\u001b[39m",
      "\u001b[31mAttributeError\u001b[39m                            Traceback (most recent call last)",
      "\u001b[36mCell\u001b[39m\u001b[36m \u001b[39m\u001b[32mIn[7]\u001b[39m\u001b[32m, line 8\u001b[39m\n\u001b[32m      5\u001b[39m         \u001b[38;5;28mself\u001b[39m.__stack_list = []\n\u001b[32m      7\u001b[39m stack_object = Stack()\n\u001b[32m----> \u001b[39m\u001b[32m8\u001b[39m \u001b[38;5;28mprint\u001b[39m(\u001b[38;5;28mlen\u001b[39m(\u001b[43mstack_object\u001b[49m\u001b[43m.\u001b[49m\u001b[43m__stack_list\u001b[49m))\n\u001b[32m     11\u001b[39m \u001b[38;5;66;03m#The change invalidates the program.\u001b[39;00m\n\u001b[32m     12\u001b[39m \n\u001b[32m     13\u001b[39m \u001b[38;5;66;03m#Why?\u001b[39;00m\n\u001b[32m   (...)\u001b[39m\u001b[32m     18\u001b[39m \n\u001b[32m     19\u001b[39m \u001b[38;5;66;03m#Run the program to test our assumptions - an AttributeError exception should be raised\u001b[39;00m\n",
      "\u001b[31mAttributeError\u001b[39m: 'Stack' object has no attribute '__stack_list'"
     ]
    }
   ],
   "source": [
    "#Take a look - we've added two underscores before the stack_list name - nothing more:\n",
    "\n",
    "class Stack:\n",
    "    def __init__(self):\n",
    "        self.__stack_list = []\n",
    "\n",
    "stack_object = Stack()\n",
    "print(len(stack_object.__stack_list))\n",
    "\n",
    "\n",
    "#The change invalidates the program.\n",
    "\n",
    "#Why?\n",
    "\n",
    "#When any class component has a name starting with two underscores (__), it becomes private - this means that it can be accessed only from within the class.\n",
    "\n",
    "#You cannot see it from the outside world. This is how Python implements the encapsulation concept.\n",
    "\n",
    "#Run the program to test our assumptions - an AttributeError exception should be raised"
   ]
  },
  {
   "cell_type": "code",
   "execution_count": null,
   "id": "690606b8",
   "metadata": {},
   "outputs": [],
   "source": [
    "#The object approach: a stack from scratch\n",
    "#Now it's time for the two functions (methods) implementing the push and pop operations. Python assumes that a function of this kind (a class activity) should be immersed inside the class body - just like a constructor.\n",
    "\n",
    "#We want to invoke these functions to push and pop values. This means that they should both be accessible to every class's user (in contrast to the previously constructed list, which is hidden from the ordinary class's users).\n",
    "\n",
    "#Such a component is called public, so you can't begin its name with two (or more) underscores. There is one more requirement - the name must have no more than one trailing underscore. As no trailing underscores at all fully meets the requirement, you can assume that the name is acceptable.\n",
    "\n",
    "#The functions themselves are simple. Take a look:\n",
    "\n",
    "class Stack:\n",
    "    def __init__(self):\n",
    "        self.__stack_list = []\n",
    "\n",
    "    def push(self, val):\n",
    "        self.__stack_list.append(val)\n",
    "\n",
    "    def pop(self):\n",
    "        val = self.__stack_list[-1]\n",
    "        del self.__stack_list[-1]\n",
    "        return val\n",
    "\n",
    "\n",
    "stack_object = Stack()\n",
    "\n",
    "stack_object.push(3)\n",
    "stack_object.push(2)\n",
    "stack_object.push(1)\n",
    "\n",
    "print(stack_object.pop())\n",
    "print(stack_object.pop())\n",
    "print(stack_object.pop())\n",
    "\n",
    "\n",
    "#However, there's something really strange in the code. The functions look familiar, but they have more parameters than their procedural counterparts.\n",
    "\n",
    "#Here, both functions have a parameter named self at the first position of the parameters list.\n",
    "\n",
    "#Is it needed? Yes, it is.\n",
    "\n",
    "#All methods have to have this parameter. It plays the same role as the first constructor parameter.\n",
    "\n",
    "#It allows the method to access entities (properties and activities/methods) carried out by the actual object. You cannot omit it. Every time Python invokes a method, it implicitly sends the current object as the first argument.\n",
    "\n",
    "#This means that a method is obligated to have at least one parameter, which is used by Python itself - you don't have any influence on it.\n",
    "\n",
    "#If your method needs no parameters at all, this one must be specified anyway. If it's designed to process just one parameter, you have to specify two, and the first one's role is still the same.\n",
    "\n",
    "#There is one more thing that requires explanation - the way in which methods are invoked from within the __stack_list variable.\n",
    "\n",
    "#Fortunately, it's much simpler than it looks:\n",
    "\n",
    "#the first stage delivers the object as a whole → self;\n",
    "#next, you need to get to the __stack_list list → self.__stack_list;\n",
    "#with __stack_list ready to be used, you can perform the third and last step → self.__stack_list.append(val).\n",
    "#The class declaration is complete, and all its components have been listed. The class is ready for use."
   ]
  },
  {
   "cell_type": "code",
   "execution_count": null,
   "id": "912b4326",
   "metadata": {},
   "outputs": [],
   "source": [
    "class Stack:\n",
    "    def __init__(self):\n",
    "        self.__stack_list = []\n",
    "\n",
    "    def push(self, val):\n",
    "        self.__stack_list.append(val)\n",
    "\n",
    "    def pop(self):\n",
    "        val = self.__stack_list[-1]\n",
    "        del self.__stack_list[-1]\n",
    "        return val\n",
    "\n",
    "\n",
    "stack_object_1 = Stack()\n",
    "stack_object_2 = Stack()\n",
    "\n",
    "stack_object_1.push(3)\n",
    "stack_object_2.push(stack_object_1.pop())\n",
    "\n",
    "print(stack_object_2.pop())\n",
    "\n",
    "# Prints 3, since we push into first stack, and then pop that pushed item into the seecond stack (as a push to second stack), and then pop from the second stack"
   ]
  },
  {
   "cell_type": "code",
   "execution_count": null,
   "id": "da9e561e",
   "metadata": {},
   "outputs": [
    {
     "name": "stdout",
     "output_type": "stream",
     "text": [
      "0\n"
     ]
    }
   ],
   "source": [
    "class Stack:\n",
    "    def __init__(self):\n",
    "        self.__stack_list = []\n",
    "\n",
    "    def push(self, val):\n",
    "        self.__stack_list.append(val)\n",
    "\n",
    "    def pop(self):\n",
    "        val = self.__stack_list[-1]\n",
    "        del self.__stack_list[-1]\n",
    "        return val\n",
    "\n",
    "\n",
    "little_stack = Stack()\n",
    "another_stack = Stack()\n",
    "funny_stack = Stack()\n",
    "\n",
    "little_stack.push(1)\n",
    "another_stack.push(little_stack.pop() + 1)\n",
    "funny_stack.push(another_stack.pop() - 2)\n",
    "\n",
    "print(funny_stack.pop())\n",
    "\n",
    "# should print 0"
   ]
  },
  {
   "cell_type": "code",
   "execution_count": null,
   "id": "73b01052",
   "metadata": {},
   "outputs": [],
   "source": [
    "class AddingStack(Stack):\n",
    "    def __init__(self):\n",
    "        Stack.__init__(self)\n",
    "        self.__sum = 0\n",
    "\n",
    "\n",
    "#The second line of the constructor's body creates a property named __sum - it will store the total of all the stack's values.\n",
    "\n",
    "#But the line before it looks different. What does it do? Is it really necessary? Yes, it is.\n",
    "\n",
    "#Contrary to many other languages, Python forces you to explicitly invoke a superclass's constructor. Omitting this point will have harmful effects - the object will be deprived of the __stack_list list. Such a stack will not function properly.\n",
    "\n",
    "#This is the only time you can invoke any of the available constructors explicitly - it can be done inside the subclass's constructor.\n",
    "\n",
    "#Note the syntax:\n",
    "\n",
    "#you specify the superclass's name (this is the class whose constructor you want to run)\n",
    "#you put a dot (.)after it;\n",
    "#you specify the name of the constructor;\n",
    "#you have to point to the object (the class's instance) which has to be initialized by the constructor - this is why you have to specify the argument and use the self variable here; note: invoking any method (including constructors) from outside the class never requires you to put the self argument at the argument's list - invoking a method from within the class demands explicit usage of the self argument, and it has to be put first on the list.\n",
    "#Note: it's generally a recommended practice to invoke the superclass's constructor before any other initializations you want to perform inside the subclass. This is the rule we have followed in the snippet."
   ]
  },
  {
   "cell_type": "code",
   "execution_count": null,
   "id": "37dc0866",
   "metadata": {},
   "outputs": [],
   "source": [
    "class Stack:\n",
    "    def __init__(self):\n",
    "        self.__stackList = []\n",
    "\n",
    "    def push(self, val):\n",
    "        self.__sum += val\n",
    "        self.__stackList.append(val)\n",
    "\n",
    "    def pop(self):\n",
    "        val = self.__stackList[-1]\n",
    "        self.__sum -= val\n",
    "        del self.__stackList[-1]\n",
    "        return val\n",
    "\n",
    "\n",
    "class AddingStack(Stack):\n",
    "    def __init__(self):\n",
    "        Stack.__init__(self)\n",
    "        self.__sum = 0"
   ]
  },
  {
   "cell_type": "markdown",
   "id": "10138984",
   "metadata": {},
   "source": [
    "## Get Function"
   ]
  },
  {
   "cell_type": "code",
   "execution_count": null,
   "id": "daf4d47f",
   "metadata": {},
   "outputs": [],
   "source": [
    "def get_sum(self):\n",
    "    return self.__sum"
   ]
  },
  {
   "cell_type": "markdown",
   "id": "0131bde3",
   "metadata": {},
   "source": [
    "hasattr"
   ]
  },
  {
   "cell_type": "code",
   "execution_count": 3,
   "id": "930376f8",
   "metadata": {},
   "outputs": [
    {
     "name": "stdout",
     "output_type": "stream",
     "text": [
      "1\n"
     ]
    }
   ],
   "source": [
    "# The try-except instruction gives you the chance to avoid issues with non-existent properties.\n",
    "\n",
    "# It's easy - look at the code in the editor.\n",
    "\n",
    "# As you can see, this action isn't very sophisticated. Essentially, we've just swept the issue under the carpet.\n",
    "\n",
    "# Fortunately, there is one more way to cope with the issue.\n",
    "\n",
    "\n",
    "# Python provides a function which is able to safely check if any object/class contains a specified property. The function is named hasattr, and expects two arguments to be passed to it:\n",
    "\n",
    "# the class or the object being checked;\n",
    "# the name of the property whose existence has to be reported (note: it has to be a string containing the attribute name, not the name alone)\n",
    "# The function returns True or False.\n",
    "\n",
    "# This is how you can utilize it\n",
    "\n",
    "class ExampleClass:\n",
    "    def __init__(self, val):\n",
    "        if val % 2 != 0:\n",
    "            self.a = 1\n",
    "        else:\n",
    "            self.b = 1\n",
    "\n",
    "\n",
    "example_object = ExampleClass(1)\n",
    "print(example_object.a)\n",
    "\n",
    "if hasattr(example_object, 'b'):\n",
    "    print(example_object.b)\n",
    "\n",
    "\n"
   ]
  },
  {
   "cell_type": "code",
   "execution_count": 4,
   "id": "7ab45100",
   "metadata": {},
   "outputs": [
    {
     "name": "stdout",
     "output_type": "stream",
     "text": [
      "True\n",
      "True\n",
      "False\n",
      "True\n"
     ]
    }
   ],
   "source": [
    "class ExampleClass:\n",
    "    a = 1\n",
    "    def __init__(self):\n",
    "        self.b = 2\n",
    "\n",
    "\n",
    "example_object = ExampleClass()\n",
    "\n",
    "print(hasattr(example_object, 'b'))\n",
    "print(hasattr(example_object, 'a'))\n",
    "print(hasattr(ExampleClass, 'b'))\n",
    "print(hasattr(ExampleClass, 'a'))"
   ]
  },
  {
   "cell_type": "code",
   "execution_count": null,
   "id": "3c0059ba",
   "metadata": {},
   "outputs": [],
   "source": []
  },
  {
   "cell_type": "code",
   "execution_count": null,
   "id": "860c674b",
   "metadata": {},
   "outputs": [],
   "source": [
    "# 1. An instance variable is a property whose existence depends on the creation of an object. Every object can have a different set of instance variables.\n",
    "\n",
    "# Moreover, they can be freely added to and removed from objects during their lifetime. All object instance variables are stored inside a dedicated dictionary named __dict__, contained in every object separately.\n",
    "\n",
    "\n",
    "# 2. An instance variable can be private when its name starts with __, but don't forget that such a property is still accessible from outside the class using a mangled name constructed as _ClassName__PrivatePropertyName.\n",
    "\n",
    "\n",
    "# 3. A class variable is a property which exists in exactly one copy, and doesn't need any created object to be accessible. Such variables are not shown as __dict__ content.\n",
    "\n",
    "# All a class's class variables are stored inside a dedicated dictionary named __dict__, contained in every class separately.\n",
    "\n",
    "\n",
    "# 4. A function named hasattr() can be used to determine if any object/class contains a specified property.\n",
    "\n",
    "# For example:\n",
    "\n",
    "class Sample:\n",
    "    gamma = 0 # Class variable.\n",
    "    def __init__(self):\n",
    "        self.alpha = 1 # Instance variable.\n",
    "        self.__delta = 3 # Private instance variable.\n",
    "\n",
    "\n",
    "obj = Sample()\n",
    "obj.beta = 2  # Another instance variable (existing only inside the \"obj\" instance.)\n",
    "print(obj.__dict__)\n",
    "\n",
    "\n",
    "# The code outputs:\n",
    "\n",
    "# {'alpha': 1, '_Sample__delta': 3, 'beta': 2}"
   ]
  },
  {
   "cell_type": "code",
   "execution_count": null,
   "id": "f6fc667c",
   "metadata": {},
   "outputs": [],
   "source": [
    "# Which of the Python class properties are instance variables and which are class variables? Which of them are private?\n",
    "\n",
    "class Python:\n",
    "    population = 1\n",
    "    victims = 0\n",
    "    def __init__(self):\n",
    "        self.length_ft = 3\n",
    "        self.__venomous = False\n",
    "\n",
    "\n",
    "\n",
    "# population and victims are class variables, while length and __venomous are instance variables (the latter is also private)."
   ]
  },
  {
   "cell_type": "code",
   "execution_count": null,
   "id": "4e955078",
   "metadata": {},
   "outputs": [],
   "source": [
    "# You're going to negate the __venomous property of the version_2 object, ignoring the fact that the property is private. How will you do this?\n",
    "\n",
    "version_2 = Python()\n",
    "\n",
    "\n",
    "# version_2._Python__venomous = not version_2._Python__venomous"
   ]
  },
  {
   "cell_type": "code",
   "execution_count": null,
   "id": "7ea62387",
   "metadata": {},
   "outputs": [],
   "source": [
    "# Methods in detail: continued\n",
    "# The self parameter is used to obtain access to the object's instance and class variables.\n",
    "\n",
    "# The example shows both ways of utilizing self:\n",
    "\n",
    "class Classy:\n",
    "    varia = 2\n",
    "    def method(self):\n",
    "        print(self.varia, self.var)\n",
    "\n",
    "\n",
    "obj = Classy()\n",
    "obj.var = 3\n",
    "obj.method()\n",
    "\n",
    "\n",
    "# The code outputs:\n",
    "\n",
    "# 2 3\n",
    "# output\n",
    "\n",
    "# The self parameter is also used to invoke other object/class methods from inside the class.\n",
    "\n",
    "# Just like here:\n",
    "\n",
    "class Classy:\n",
    "    def other(self):\n",
    "        print(\"other\")\n",
    "\n",
    "    def method(self):\n",
    "        print(\"method\")\n",
    "        self.other()\n",
    "\n",
    "\n",
    "obj = Classy()\n",
    "obj.method()\n",
    "\n",
    "\n",
    "# The code outputs:\n",
    "\n",
    "# method\n",
    "# other"
   ]
  },
  {
   "cell_type": "code",
   "execution_count": null,
   "id": "23091fb0",
   "metadata": {},
   "outputs": [],
   "source": [
    "class MyClass:\n",
    "    pass\n",
    "\n",
    "\n",
    "obj = MyClass()\n",
    "obj.a = 1\n",
    "obj.b = 2\n",
    "obj.i = 3\n",
    "obj.ireal = 3.5\n",
    "obj.integer = 4\n",
    "obj.z = 5\n",
    "\n",
    "\n",
    "def incIntsI(obj):\n",
    "    for name in obj.__dict__.keys():\n",
    "        if name.startswith('i'):\n",
    "            val = getattr(obj, name)\n",
    "            if isinstance(val, int):\n",
    "                setattr(obj, name, val + 1)\n",
    "\n",
    "\n",
    "print(obj.__dict__)\n",
    "incIntsI(obj)\n",
    "print(obj.__dict__)\n"
   ]
  },
  {
   "cell_type": "code",
   "execution_count": null,
   "id": "fa21941f",
   "metadata": {},
   "outputs": [],
   "source": [
    "# When you're going to build a completely new universe filled with completely new creatures that have nothing in common with all the familiar things, you may want to build your own exception structure.\n",
    "\n",
    "# For example, if you work on a large simulation system which is intended to model the activities of a pizza restaurant, it can be desirable to form a separate hierarchy of exceptions.\n",
    "\n",
    "# You can start building it by defining a general exception as a new base class for any other specialized exception. We've done it in the following way:\n",
    "\n",
    "class PizzaError(Exception):\n",
    "    def __init__(self, pizza, message):\n",
    "        Exception.__init__(self, message)\n",
    "        self.pizza = pizza\n",
    "\n",
    "\n",
    "# Note: we're going to collect more specific information here than a regular Exception does, so our constructor will take two arguments:\n",
    "\n",
    "# one specifying a pizza as a subject of the process,\n",
    "# and one containing a more or less precise description of the problem.\n",
    "# As you can see, we pass the second parameter to the superclass constructor, and save the first inside our own property.\n",
    "\n",
    "# A more specific problem (like an excess of cheese) can require a more specific exception. It's possible to derive the new class from the already defined PizzaError class, like we've done here:\n",
    "\n",
    "class TooMuchCheeseError(PizzaError):\n",
    "    def __init__(self, pizza, cheese, message):\n",
    "        PizzaError._init__(self, pizza, message)\n",
    "        self.cheese = cheese\n",
    "\n",
    "\n",
    "# The TooMuchCheeseError exception needs more information than the regular PizzaError exception, so we add it to the constructor – the name cheese is then stored for further processing."
   ]
  },
  {
   "cell_type": "code",
   "execution_count": null,
   "id": "b624cbc1",
   "metadata": {},
   "outputs": [],
   "source": [
    "# Python 2 Module 4"
   ]
  },
  {
   "cell_type": "code",
   "execution_count": 6,
   "id": "00728224",
   "metadata": {},
   "outputs": [
    {
     "name": "stdout",
     "output_type": "stream",
     "text": [
      "0\n",
      "1\n",
      "2\n",
      "3\n",
      "4\n"
     ]
    }
   ],
   "source": [
    "def fun(n):\n",
    "    for i in range(n):\n",
    "        yield i\n",
    "\n",
    "\n",
    "for v in fun(5):\n",
    "    print(v)"
   ]
  },
  {
   "cell_type": "code",
   "execution_count": 7,
   "id": "19556328",
   "metadata": {},
   "outputs": [],
   "source": [
    "def fun(n):\n",
    "    for i in range(n):\n",
    "        return i\n",
    "\n",
    "\n",
    "# for v in fun(5):\n",
    "    # print(v)"
   ]
  },
  {
   "cell_type": "code",
   "execution_count": 8,
   "id": "7a3046dd",
   "metadata": {},
   "outputs": [
    {
     "name": "stdout",
     "output_type": "stream",
     "text": [
      "1\n",
      "2\n",
      "4\n",
      "8\n",
      "16\n",
      "32\n",
      "64\n",
      "128\n"
     ]
    }
   ],
   "source": [
    "def powers_of_2(n):\n",
    "    power = 1\n",
    "    for i in range(n):\n",
    "        yield power\n",
    "        power *= 2\n",
    "\n",
    "\n",
    "for v in powers_of_2(8):\n",
    "    print(v)"
   ]
  },
  {
   "cell_type": "markdown",
   "id": "54701606",
   "metadata": {},
   "source": [
    "### List Comprehensions"
   ]
  },
  {
   "cell_type": "code",
   "execution_count": 9,
   "id": "1eb27e57",
   "metadata": {},
   "outputs": [
    {
     "name": "stdout",
     "output_type": "stream",
     "text": [
      "[1, 10, 100, 1000, 10000, 100000]\n",
      "[1, 10, 100, 1000, 10000, 100000]\n"
     ]
    }
   ],
   "source": [
    "list_1 = []\n",
    "\n",
    "for ex in range(6):\n",
    "    list_1.append(10 ** ex)\n",
    "\n",
    "list_2 = [10 ** ex for ex in range(6)]\n",
    "\n",
    "print(list_1)\n",
    "print(list_2)\n"
   ]
  },
  {
   "cell_type": "code",
   "execution_count": null,
   "id": "09f387e6",
   "metadata": {},
   "outputs": [],
   "source": [
    "the_list = []\n",
    "\n",
    "for x in range(10):\n",
    "    the_list.append(1 if x % 2 == 0 else 0)\n",
    "\n",
    "print(the_list)\n"
   ]
  },
  {
   "cell_type": "markdown",
   "id": "80029bd3",
   "metadata": {},
   "source": [
    "## List Comprehensions vs Generators\n",
    "### comprehension - brackets,  generators - parenthesis"
   ]
  },
  {
   "cell_type": "markdown",
   "id": "78bcb883",
   "metadata": {},
   "source": []
  },
  {
   "cell_type": "code",
   "execution_count": 10,
   "id": "a2eb7905",
   "metadata": {},
   "outputs": [
    {
     "name": "stdout",
     "output_type": "stream",
     "text": [
      "1 0 1 0 1 0 1 0 1 0 \n",
      "1 0 1 0 1 0 1 0 1 0 \n"
     ]
    }
   ],
   "source": [
    "the_list = [1 if x % 2 == 0 else 0 for x in range(10)]\n",
    "the_generator = (1 if x % 2 == 0 else 0 for x in range(10))\n",
    "\n",
    "for v in the_list:\n",
    "    print(v, end=\" \")\n",
    "print()\n",
    "\n",
    "for v in the_generator:\n",
    "    print(v, end=\" \")\n",
    "print()"
   ]
  },
  {
   "cell_type": "markdown",
   "id": "a06a136b",
   "metadata": {},
   "source": [
    "# Lambda"
   ]
  },
  {
   "cell_type": "code",
   "execution_count": null,
   "id": "8b588217",
   "metadata": {},
   "outputs": [],
   "source": [
    "# The lambda function\n",
    "# The lambda function is a concept borrowed from mathematics, more specifically, from a part called the Lambda calculus, but these two phenomena are not the same.\n",
    "\n",
    "# Mathematicians use the Lambda calculus in many formal systems connected with logic, recursion, or theorem provability. Programmers use the lambda function to simplify the code, to make it clearer and easier to understand.\n",
    "\n",
    "# A lambda function is a function without a name (you can also call it an anonymous function). Of course, such a statement immediately raises the question: how do you use anything that cannot be identified?\n",
    "\n",
    "# Fortunately, it's not a problem, as you can name such a function if you really need, but, in fact, in many cases the lambda function can exist and work while remaining fully incognito.\n",
    "\n",
    "# The declaration of the lambda function doesn't resemble a normal function declaration in any way - see for yourself:\n",
    "\n",
    "# lambda parameters: expression\n",
    "\n",
    "\n",
    "# Such a clause returns the value of the expression when taking into account the current value of the current lambda argument.\n",
    "\n",
    "# As usual, an example will be helpful. Our example uses three lambda functions, but gives them names. Look at it carefully:\n",
    "\n",
    "two = lambda: 2\n",
    "sqr = lambda x: x * x\n",
    "pwr = lambda x, y: x ** y\n",
    "\n",
    "for a in range(-2, 3):\n",
    "    print(sqr(a), end=\" \")\n",
    "    print(pwr(a, two()))\n",
    "\n",
    "\n",
    "\n",
    "\n",
    "# Let's analzye it:\n",
    "\n",
    "# the first lambda is an anonymous parameterless function that always returns 2. As we've assigned it to a variable named two, we can say that the function is not anonymous anymore, and we can use the name to invoke it.\n",
    "\n",
    "# the second one is a one-parameter anonymous function that returns the value of its squared argument. We've named it as such, too.\n",
    "\n",
    "# the third lambda takes two parameters and returns the value of the first one raised to the power of the second one. The name of the variable which carries the lambda speaks for itself. We don't use pow to avoid confusion with the built-in function of the same name and the same purpose.\n",
    "\n",
    "# The program produces the following output:\n",
    "\n",
    "# 4 4\n",
    "# 1 1\n",
    "# 0 0\n",
    "# 1 1\n",
    "# 4 4\n",
    "# output\n",
    "\n",
    "# This example is clear enough to show how lambdas are declared and how they behave, but it says nothing about why they're necessary, and what they're used for, since they can all be replaced with routine Python functions.\n",
    "\n",
    "# Where is the benefit?\n",
    "\n",
    "\n"
   ]
  },
  {
   "cell_type": "code",
   "execution_count": 11,
   "id": "cfde9d32",
   "metadata": {},
   "outputs": [
    {
     "name": "stdout",
     "output_type": "stream",
     "text": [
      "[1, 2, 4, 8, 16]\n",
      "1 4 16 64 256 \n"
     ]
    }
   ],
   "source": [
    "# map function\n",
    "list_1 = [x for x in range(5)]\n",
    "list_2 = list(map(lambda x: 2 ** x, list_1))\n",
    "print(list_2)\n",
    "\n",
    "for x in map(lambda x: x * x, list_2):\n",
    "    print(x, end=' ')\n",
    "print()\n"
   ]
  },
  {
   "cell_type": "code",
   "execution_count": 12,
   "id": "91f9d22d",
   "metadata": {},
   "outputs": [
    {
     "name": "stdout",
     "output_type": "stream",
     "text": [
      "[-5, 5, 9, -6, 2]\n",
      "[2]\n"
     ]
    }
   ],
   "source": [
    "# filter function\n",
    "# Lambdas and the filter() function\n",
    "# Another Python function which can be significantly beautified by the application of a lambda is filter().\n",
    "\n",
    "# It expects the same kind of arguments as map(), but does something different - it filters its second argument while being guided by directions flowing from the function specified as the first argument (the function is invoked for each list element, just like in map()).\n",
    "\n",
    "# The elements which return True from the function pass the filter - the others are rejected.\n",
    "\n",
    "# The example in the editor shows the filter() function in action.\n",
    "\n",
    "# Note: we've made use of the random module to initialize the random number generator (not to be confused with the generators we've just talked about) with the seed() function, and to produce five random integer values from -10 to 10 using the randint() function.\n",
    "\n",
    "# The list is then filtered, and only the numbers which are even and greater than zero are accepted.\n",
    "\n",
    "# Of course, it's not likely that you'll receive the same results, but this is what our results looked like:\n",
    "\n",
    "# [6, 3, 3, 2, -7]\n",
    "# [6, 2]\n",
    "\n",
    "from random import seed, randint\n",
    "\n",
    "seed()\n",
    "data = [randint(-10,10) for x in range(5)]\n",
    "filtered = list(filter(lambda x: x > 0 and x % 2 == 0, data))\n",
    "\n",
    "print(data)\n",
    "print(filtered)\n"
   ]
  },
  {
   "cell_type": "code",
   "execution_count": null,
   "id": "2337e2bf",
   "metadata": {},
   "outputs": [],
   "source": [
    "# closures\n",
    "\n",
    "def outer(par):\n",
    "    loc = par\n",
    "\n",
    "    def inner():\n",
    "        return loc\n",
    "    return inner\n",
    "\n",
    "\n",
    "var = 1\n",
    "fun = outer(var)\n",
    "print(fun())\n",
    "\n",
    "\n",
    "#inner is the closure"
   ]
  },
  {
   "cell_type": "code",
   "execution_count": null,
   "id": "641de3c6",
   "metadata": {},
   "outputs": [],
   "source": [
    "# Opening the streams\n",
    "# The opening of the stream is performed by a function which can be invoked in the following way:\n",
    "\n",
    "stream = open(file, mode = 'r', encoding = None)\n",
    "\n",
    "\n",
    "# Let's analyze it:\n",
    "\n",
    "# the name of the function (open) speaks for itself; if the opening is successful, the function returns a stream object; otherwise, an exception is raised (e.g., FileNotFoundError if the file you're going to read doesn't exist);\n",
    "\n",
    "# the first parameter of the function (file) specifies the name of the file to be associated with the stream;\n",
    "\n",
    "# the second parameter (mode) specifies the open mode used for the stream; it's a string filled with a sequence of characters, and each of them has its own special meaning (more details soon);\n",
    "\n",
    "# the third parameter (encoding) specifies the encoding type (e.g., UTF-8 when working with text files)\n",
    "\n",
    "# the opening must be the very first operation performed on the stream.\n",
    "# Note: the mode and encoding arguments may be omitted - their default values are assumed then. The default opening mode is reading in text mode, while the default encoding depends on the platform used."
   ]
  },
  {
   "cell_type": "markdown",
   "id": "473e7939",
   "metadata": {},
   "source": [
    "Opening the streams: modes\n",
    "\n",
    "r open mode: read\n",
    "the stream will be opened in read mode;\n",
    "the file associated with the stream must exist and has to be readable, otherwise the open() function raises an exception.\n",
    "\n",
    "w open mode: write\n",
    "\n",
    "the stream will be opened in write mode;\n",
    "the file associated with the stream doesn't need to exist; if it doesn't exist it will be created; if it exists, it will be truncated to the length of zero (erased); if the creation isn't possible (e.g., due to system permissions) the open() function raises an exception.\n",
    "\n",
    "a open mode: append\n",
    "the stream will be opened in append mode;\n",
    "the file associated with the stream doesn't need to exist; if it doesn't exist, it will be created; if it exists the virtual recording head will be set at the end of the file (the previous content of the file remains untouched.)\n",
    "\n",
    "r+ open mode: read and update\n",
    "the stream will be opened in read and update mode;\n",
    "the file associated with the stream must exist and has to be writeable, otherwise the open() function raises an exception;\n",
    "both read and write operations are allowed for the stream.\n",
    "\n",
    "w+ open mode: write and update\n",
    "the stream will be opened in write and update mode;\n",
    "the file associated with the stream doesn't need to exist; if it doesn't exist, it will be created; the previous content of the file remains untouched;\n",
    "both read and write operations are allowed for the stream."
   ]
  },
  {
   "cell_type": "markdown",
   "id": "37193be7",
   "metadata": {},
   "source": [
    "Selecting text and binary modes\n",
    "\n",
    "If there is a letter b at the end of the mode string it means that the stream is to be opened in the binary mode.\n",
    "\n",
    "If the mode string ends with a letter t the stream is opened in the text mode.\n",
    "\n",
    "Text mode is the default behaviour assumed when no binary/text mode specifier is used.\n",
    "\n",
    "Finally, the successful opening of the file will set the current file position (the virtual reading/writing head) before the first byte of the file if the mode is not a and after the last byte of file if the mode is set to a.\n",
    "\n",
    "\n",
    "Text mode\tBinary mode\tDescription\n",
    "rt\trb\tread\n",
    "wt\twb\twrite\n",
    "at\tab\tappend\n",
    "r+t\tr+b\tread and update\n",
    "w+t\tw+b\twrite and update\n"
   ]
  },
  {
   "cell_type": "markdown",
   "id": "369baaa6",
   "metadata": {},
   "source": []
  },
  {
   "cell_type": "code",
   "execution_count": 16,
   "id": "2b20a048",
   "metadata": {},
   "outputs": [
    {
     "name": "stdout",
     "output_type": "stream",
     "text": [
      "nt\n",
      "uname_result(system='Windows', node='923-52878', release='11', version='10.0.26100', machine='AMD64')\n"
     ]
    }
   ],
   "source": [
    "import os\n",
    "import platform\n",
    "\n",
    "# uname function\n",
    "# efore you create your first directory structure, you'll see how you can get information about the current operating system. This is really easy because the os module provides a function called uname, which returns an object containing the following attributes:\n",
    "print(os.name)\n",
    "print(platform.uname())"
   ]
  },
  {
   "cell_type": "code",
   "execution_count": null,
   "id": "38d71d37",
   "metadata": {},
   "outputs": [],
   "source": [
    "# mkdir makes 1 directory\n",
    "# makedirs makes all directories in the path\n",
    "# rmdir removes 1 directory\n",
    "# removedirs removes all directories in the path\n",
    "# listdir lists all files in the directory"
   ]
  },
  {
   "cell_type": "code",
   "execution_count": null,
   "id": "9a50b7b8",
   "metadata": {},
   "outputs": [],
   "source": [
    "# datetime module\n",
    "\n",
    "import datetime\n",
    "# useful for \n",
    "# event logging — thanks to the knowledge of date and time, we are able to determine when exactly a critical error occurs in our application. When creating logs, you can specify the date and time format;\n",
    "# tracking changes in the database — sometimes it's necessary to store information about when a record was created or modified. The datetime module will be perfect for this case;\n",
    "# data validation — you'll soon learn how to read the current date and time in Python. Knowing the current date and time, we're able to validate various types of data, e.g., whether a discount coupon entered by a user in our application is still valid;\n",
    "# storing important information — can you imagine bank transfers without storing the information of when they were made? The date and time of certain actions must be preserved, and we must deal with it."
   ]
  },
  {
   "cell_type": "code",
   "execution_count": null,
   "id": "c2268c54",
   "metadata": {},
   "outputs": [],
   "source": []
  },
  {
   "cell_type": "code",
   "execution_count": null,
   "id": "758d851c",
   "metadata": {},
   "outputs": [],
   "source": [
    "# Getting the current local date and creating date objects\n",
    "# One of the classes provided by the datetime module is a class called date. Objects of this class represent a date consisting of the year, month, and day. Look at the code in the editor to see what it looks like in practice and get the current local date using the today method.\n",
    "\n",
    "# Run the code to see what happens.\n",
    "\n",
    "# The today method returns a date object representing the current local date. Note that the date object has three attributes: year, month, and day.\n",
    "\n",
    "# Be careful, because these attributes are read-only. To create a date object, you must pass the year, month, and day parameters as follows:\n",
    "\n",
    "from datetime import date\n",
    "\n",
    "my_date = date(2019, 11, 4)\n",
    "print(my_date)\n",
    "\n",
    "\n",
    "# Run the example to see what happens.\n",
    "\n",
    "# When creating a date object, keep the following restrictions in mind:\n",
    "\n",
    "# Parameter\tRestrictions\n",
    "# year\t\n",
    "# The year parameter must be greater than or equal to 1 (MINYEAR constant) and less than or equal to 9999 (MAXYEAR constant).\n",
    "\n",
    "# month\t\n",
    "# The month parameter must be greater than or equal to 1 and less than or equal to 12.\n",
    "\n",
    "# day\t\n",
    "# The day parameter must be greater than or equal to 1 and less than or equal to the last day of the given month and year.\n",
    "\n",
    "# Note: Later in this course you'll learn how to change the default date format."
   ]
  },
  {
   "cell_type": "code",
   "execution_count": null,
   "id": "be88f273",
   "metadata": {},
   "outputs": [],
   "source": [
    "# date time replace method\n",
    "from datetime import date\n",
    "\n",
    "d = date(1991, 2, 5)\n",
    "print(d)\n",
    "\n",
    "\n",
    "d = d.replace(year=1992, month=1, day=16)\n",
    "print(d)\n"
   ]
  },
  {
   "cell_type": "code",
   "execution_count": null,
   "id": "c6613615",
   "metadata": {},
   "outputs": [],
   "source": [
    "from datetime import date\n",
    "\n",
    "d = date(2019, 11, 4)\n",
    "print(d.weekday())\n",
    "\n",
    "# tells you the day of the week, where Monday is 0 and Sunday is 6"
   ]
  },
  {
   "cell_type": "code",
   "execution_count": 18,
   "id": "9420b794",
   "metadata": {},
   "outputs": [
    {
     "name": "stdout",
     "output_type": "stream",
     "text": [
      "Time: 14:53:20.000001\n",
      "Hour: 14\n",
      "Minute: 53\n",
      "Second: 20\n",
      "Microsecond: 1\n"
     ]
    }
   ],
   "source": [
    "# Creating time objects\n",
    "# You already know how to present a date using the date object. The datetime module also has a class that allows you to present time. Can you guess its name? Yes, it's called time:\n",
    "\n",
    "from datetime import time\n",
    "\n",
    "t = time(14, 53, 20, 1)\n",
    "\n",
    "print(\"Time:\", t)\n",
    "print(\"Hour:\", t.hour)\n",
    "print(\"Minute:\", t.minute)\n",
    "print(\"Second:\", t.second)\n",
    "print(\"Microsecond:\", t.microsecond)\n",
    "\n",
    "\n",
    "# The time class constructor accepts the following optional parameters:\n",
    "\n",
    "# Parameter\tRestrictions\n",
    "# hour\t\n",
    "# The hour parameter must be greater than or equal to 0 and less than 23.\n",
    "\n",
    "# minute\t\n",
    "# The minute parameter must be greater than or equal to 0 and less than 59.\n",
    "\n",
    "# second\t\n",
    "# The second parameter must be greater than or equal to 0 and less than 59.\n",
    "\n",
    "# microsecond\t\n",
    "# The microsecond parameter must be greater than or equal to 0 and less than 1000000.\n",
    "\n",
    "# tzinfo\t\n",
    "# The tzinfo parameter must be a tzinfo subclass object or None (default).\n",
    "\n",
    "# fold\t\n",
    "# The fold parameter must be 0 or 1 (default 0).\n",
    "\n",
    "# The tzinfo parameter is associated with time zones, while fold with wall times. We won't use them during this course, but we encourage you to familiarize yourself with them.\n",
    "\n",
    "# Let's look at how to create a time object in practice. Run the code in the editor.\n",
    "\n",
    "# Result:\n",
    "\n",
    "# Time: 14:53:20.000001\n",
    "# Hour: 14\n",
    "# Minute: 53\n",
    "# Second: 20\n",
    "# Microsecond: 1"
   ]
  },
  {
   "cell_type": "code",
   "execution_count": null,
   "id": "22407e8d",
   "metadata": {},
   "outputs": [],
   "source": []
  },
  {
   "cell_type": "markdown",
   "id": "4b009b90",
   "metadata": {},
   "source": [
    "### Sleep Function"
   ]
  },
  {
   "cell_type": "code",
   "execution_count": null,
   "id": "1261e880",
   "metadata": {},
   "outputs": [],
   "source": [
    "import time\n",
    "\n",
    "class Student:\n",
    "    def take_nap(self, seconds):\n",
    "        print(\"I'm very tired. I have to take a nap. See you later.\")\n",
    "        time.sleep(seconds)\n",
    "        print(\"I slept well! I feel great!\")\n",
    "\n",
    "student = Student()\n",
    "student.take_nap(5)\n"
   ]
  },
  {
   "cell_type": "markdown",
   "id": "2fd0a551",
   "metadata": {},
   "source": [
    "### ctime Function"
   ]
  },
  {
   "cell_type": "code",
   "execution_count": 19,
   "id": "49e16d89",
   "metadata": {},
   "outputs": [
    {
     "name": "stdout",
     "output_type": "stream",
     "text": [
      "Mon Nov  4 09:53:00 2019\n"
     ]
    }
   ],
   "source": [
    "import time\n",
    "\n",
    "timestamp = 1572879180\n",
    "print(time.ctime(timestamp))\n"
   ]
  },
  {
   "cell_type": "code",
   "execution_count": null,
   "id": "dbe4b9c4",
   "metadata": {},
   "outputs": [],
   "source": [
    "# The gmtime() and localtime() functions\n",
    "# Some of the functions available in the time module require knowledge of the struct_time class, but before we get to know them, let's see what the class looks like:\n",
    "\n",
    "# time.struct_time:\n",
    "#     tm_year   # specifies the year\n",
    "#     tm_mon    # specifies the month (value from 1 to 12)\n",
    "#     tm_mday   # specifies the day of the month (value from 1 to 31)\n",
    "#     tm_hour   # specifies the hour (value from 0 to 23)\n",
    "#     tm_min    # specifies the minute (value from 0 to 59)\n",
    "#     tm_sec    # specifies the second (value from 0 to 61 )\n",
    "#     tm_wday   # specifies the weekday (value from 0 to 6)\n",
    "#     tm_yday   # specifies the year day (value from 1 to 366)\n",
    "#     tm_isdst  # specifies whether daylight saving time applies (1 – yes, 0 – no, -1 – it isn't known)\n",
    "#     tm_zone   # specifies the timezone name (value in an abbreviated form)\n",
    "#     tm_gmtoff # specifies the offset east of UTC (value in seconds)\n",
    "\n",
    "\n",
    "# The struct_time class also allows access to values using indexes. Index 0 returns the value in tm_year, while 8 returns the value in tm_isdst.\n",
    "\n",
    "# The exceptions are tm_zone and tm_gmoff, which cannot be accessed using indexes. Let's look at how to use the struct_time class in practice. Run the code in the editor.\n",
    "\n",
    "# Result:\n",
    "\n",
    "# time.struct_time(tm_year=2019, tm_mon=11, tm_mday=4, tm_hour=14, tm_min=53, tm_sec=0, tm_wday=0, tm_yday=308, tm_isdst=0)\n",
    "# time.struct_time(tm_year=2019, tm_mon=11, tm_mday=4, tm_hour=14, tm_min=53, tm_sec=0, tm_wday=0, tm_yday=308, tm_isdst=0)\n",
    "# output\n",
    "\n",
    "# The example shows two functions that convert the elapsed time from the Unix epoch to the struct_time object. The difference between them is that the gmtime function returns the struct_time object in UTC, while the localtime function returns local time. For the gmtime function, the tm_isdst attribute is always 0."
   ]
  },
  {
   "cell_type": "code",
   "execution_count": null,
   "id": "eb304de8",
   "metadata": {},
   "outputs": [],
   "source": [
    "import time\n",
    "\n",
    "timestamp = 1572879180\n",
    "print(time.gmtime(timestamp))\n",
    "print(time.localtime(timestamp))\n"
   ]
  },
  {
   "cell_type": "markdown",
   "id": "0193b25f",
   "metadata": {},
   "source": []
  },
  {
   "cell_type": "code",
   "execution_count": 20,
   "id": "e24c9c23",
   "metadata": {},
   "outputs": [
    {
     "name": "stdout",
     "output_type": "stream",
     "text": [
      "Mon Nov  4 14:53:00 2019\n",
      "1572897180.0\n"
     ]
    }
   ],
   "source": [
    "\n",
    "# The asctime() and mktime() functions\n",
    "# The time module has functions that expect a struct_time object or a tuple that stores values according to the indexes presented when discussing the struct_time class. Run the example in the editor.\n",
    "\n",
    "# Result:\n",
    "\n",
    "# Mon Nov  4 14:53:00 2019\n",
    "# 1572879180.0\n",
    "# output\n",
    "\n",
    "# The first of the functions, called asctime, converts a struct_time object or a tuple to a string. Note that the familiar gmtime function is used to get the struct_time object. If you don't provide an argument to the asctime function, the time returned by the localtime function will be used.\n",
    "\n",
    "# The second function called mktime converts a struct_time object or a tuple that expresses the local time to the number of seconds since the Unix epoch. In our example, we passed a tuple to it, which consists of the following values:\n",
    "\n",
    "# 2019 => tm_year\n",
    "# 11 => tm_mon\n",
    "# 4 => tm_mday\n",
    "# 14 => tm_hour\n",
    "# 53 => tm_min\n",
    "# 0 => tm_sec\n",
    "# 0 => tm_wday\n",
    "# 308 => tm_yday\n",
    "# 0 => tm_isdst\n",
    "\n",
    "import time\n",
    "\n",
    "timestamp = 1572879180\n",
    "st = time.gmtime(timestamp)\n",
    "\n",
    "print(time.asctime(st))\n",
    "print(time.mktime((2019, 11, 4, 14, 53, 0, 0, 308, 0)))\n"
   ]
  },
  {
   "cell_type": "code",
   "execution_count": null,
   "id": "7850c1db",
   "metadata": {},
   "outputs": [],
   "source": [
    "from datetime import datetime\n",
    "\n",
    "print(\"today:\", datetime.today())\n",
    "print(\"now:\", datetime.now())\n",
    "print(\"utcnow:\", datetime.utcnow())\n"
   ]
  },
  {
   "cell_type": "code",
   "execution_count": 21,
   "id": "cc83bf71",
   "metadata": {},
   "outputs": [
    {
     "name": "stdout",
     "output_type": "stream",
     "text": [
      "Timestamp: 1601837700.0\n"
     ]
    }
   ],
   "source": [
    "\n",
    "# Getting a timestamp\n",
    "# There are many converters available on the Internet that can calculate a timestamp based on a given date and time, but how can we do it in the datetime module?\n",
    "\n",
    "# This is possible thanks to the timestamp method provided by the datetime class. Look at the code in the editor.\n",
    "\n",
    "# Result:\n",
    "\n",
    "# Timestamp: 1601823300.0\n",
    "# output\n",
    "\n",
    "# The timestamp method returns a float value expressing the number of seconds elapsed between the date and time indicated by the datetime object and January 1, 1970, 00:00:00 (UTC).\n",
    "\n",
    "from datetime import datetime\n",
    "\n",
    "dt = datetime(2020, 10, 4, 14, 55)\n",
    "print(\"Timestamp:\", dt.timestamp())\n"
   ]
  },
  {
   "cell_type": "code",
   "execution_count": null,
   "id": "6c0f522d",
   "metadata": {},
   "outputs": [],
   "source": [
    "# Date and time formatting (part 1)\n",
    "# All datetime module classes presented so far have a method called strftime. This is a very important method, because it allows us to return the date and time in the format we specify.\n",
    "\n",
    "# The strftime method takes only one argument in the form of a string specifying the format that can consist of directives.\n",
    "\n",
    "# A directive is a string consisting of the character % (percent) and a lowercase or uppercase letter, e.g., the directive %Y means the year with the century as a decimal number. Let's see it in an example. Run the code in the editor.\n",
    "\n",
    "# Result:\n",
    "\n",
    "# 2020/01/04\n",
    "# output\n",
    "\n",
    "# In the example, we passed a format consisting of three directives separated by / (slash) to the strftime method. Of course, the separator character can be replaced by another character, or even by a string.\n",
    "\n",
    "# You can put any characters in the format, but only recognizable directives will be replaced with the appropriate values. In our format we've used the following directives:\n",
    "\n",
    "# %Y – returns the year with the century as a decimal number. In our example, this is 2020.\n",
    "# %m – returns the month as a zero-padded decimal number. In our example, it's 01.\n",
    "# %d – returns the day as a zero-padded decimal number. In our example, it's 04.\n",
    "\n",
    "# https://docs.python.org/3/library/datetime.html#strftime-and-strptime-format-codes"
   ]
  },
  {
   "cell_type": "code",
   "execution_count": 25,
   "id": "4c33c902",
   "metadata": {},
   "outputs": [
    {
     "name": "stdout",
     "output_type": "stream",
     "text": [
      "366 days, 0:00:00\n",
      "365 days, 9:07:00\n"
     ]
    }
   ],
   "source": [
    "#time deltra\n",
    "from datetime import date\n",
    "from datetime import datetime\n",
    "\n",
    "d1 = date(2020, 11, 4)\n",
    "d2 = date(2019, 11, 4)\n",
    "\n",
    "print(d1 - d2)\n",
    "\n",
    "dt1 = datetime(2020, 11, 4, 0, 0, 0)\n",
    "dt2 = datetime(2019, 11, 4, 14, 53, 0)\n",
    "\n",
    "print(dt1 - dt2)\n"
   ]
  },
  {
   "cell_type": "code",
   "execution_count": null,
   "id": "3820ab5b",
   "metadata": {},
   "outputs": [],
   "source": [
    "# can sunbstract, add, multiply dates using timedeltas"
   ]
  },
  {
   "cell_type": "markdown",
   "id": "5833cbc3",
   "metadata": {},
   "source": [
    "# Calendar Module"
   ]
  },
  {
   "cell_type": "markdown",
   "id": "ec2780b9",
   "metadata": {},
   "source": [
    "<!-- In addition to the datetime and time modules, the Python standard library provides a module called calendar which, as the name suggests, offers calendar-related functions.\n",
    "\n",
    "One of them is of course displaying the calendar. It's important that the days of the week are displayed from Monday to Sunday, and each day of the week has its representation in the form of an integer:\n",
    "\n",
    "Day of the week\tInteger value\tConstant\n",
    "Monday\t    0\tcalendar.MONDAY\n",
    "Tuesday\t    1\tcalendar.TUESDAY\n",
    "Wednesday\t2\tcalendar.WEDNESDAY\n",
    "Thursday\t3\tcalendar.THURSDAY\n",
    "Friday\t    4\tcalendar.FRIDAY\n",
    "Saturday\t5\tcalendar.SATURDAY\n",
    "Sunday\t    6\tcalendar.SUNDAY\n",
    "The table above shows the representation of the days of the week in the calendar module. The first day of the week (Monday) is represented by the value 0 and the calendar.MONDAY constant, while the last day of the week (Sunday) is represented by the value 6 and the calendar.SUNDAY constant. -->"
   ]
  },
  {
   "cell_type": "code",
   "execution_count": null,
   "id": "bffe975c",
   "metadata": {},
   "outputs": [],
   "source": [
    "import calendar\n",
    "print(calendar.month(2020, 11))\n",
    "\n",
    "# can also do prmonth to not use the print function\n",
    "# The calendar module has a function called month, which allows you to display a calendar for a specific month. Its use is really simple, you just need to specify the year and month - check out the code in the editor.\n",
    "\n",
    "# The example displays the calendar for November 2020. As in the calendar function, you can change the default formatting using the following parameters:\n",
    "\n",
    "# w – date column width (default 2)\n",
    "# l – number of lines per week (default 1)"
   ]
  },
  {
   "cell_type": "code",
   "execution_count": 27,
   "id": "b497a155",
   "metadata": {},
   "outputs": [
    {
     "name": "stdout",
     "output_type": "stream",
     "text": [
      "   December 2020\n",
      "Tu We Th Fr Sa Su Mo\n",
      " 1  2  3  4  5  6  7\n",
      " 8  9 10 11 12 13 14\n",
      "15 16 17 18 19 20 21\n",
      "22 23 24 25 26 27 28\n",
      "29 30 31\n"
     ]
    }
   ],
   "source": [
    "# set first weekday\n",
    "import calendar\n",
    "\n",
    "calendar.setfirstweekday(calendar.TUESDAY)\n",
    "calendar.prmonth(2020, 12)\n"
   ]
  },
  {
   "cell_type": "code",
   "execution_count": 31,
   "id": "30302c45",
   "metadata": {},
   "outputs": [
    {
     "name": "stdout",
     "output_type": "stream",
     "text": [
      "3\n",
      "2\n",
      "2\n",
      "2\n",
      "2\n",
      "2\n",
      "2\n",
      "2\n",
      "2\n",
      "2\n",
      "2\n"
     ]
    }
   ],
   "source": [
    "import calendar\n",
    "print(calendar.weekday(2020, 12, 24))\n",
    "i = 0\n",
    "while (i < 10):\n",
    "    year = 2020\n",
    "    print(calendar.weekday(year, 5, 20))\n",
    "    year += 1\n",
    "    i += 1\n"
   ]
  }
 ],
 "metadata": {
  "kernelspec": {
   "display_name": "Python 3",
   "language": "python",
   "name": "python3"
  },
  "language_info": {
   "codemirror_mode": {
    "name": "ipython",
    "version": 3
   },
   "file_extension": ".py",
   "mimetype": "text/x-python",
   "name": "python",
   "nbconvert_exporter": "python",
   "pygments_lexer": "ipython3",
   "version": "3.13.2"
  }
 },
 "nbformat": 4,
 "nbformat_minor": 5
}
