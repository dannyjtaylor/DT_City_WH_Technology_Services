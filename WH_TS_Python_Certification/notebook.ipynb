{
 "cells": [
  {
   "cell_type": "markdown",
   "id": "b34627d3",
   "metadata": {},
   "source": [
    "# Hello! This is my Python notebook for the Python 2 Certification. All my notes, test programs, and labs will be stored here."
   ]
  },
  {
   "cell_type": "markdown",
   "id": "a89e89a7",
   "metadata": {},
   "source": [
    "# Error Handling"
   ]
  },
  {
   "cell_type": "code",
   "execution_count": 16,
   "id": "9ce115ae",
   "metadata": {},
   "outputs": [
    {
     "name": "stdout",
     "output_type": "stream",
     "text": [
      "zero\n"
     ]
    }
   ],
   "source": [
    "try:\n",
    "    print(\"alpha\"[4/0])\n",
    "except ZeroDivisionError:\n",
    "    print(\"zero\")\n",
    "except IndexError:\n",
    "    print(\"index\")\n",
    "except:\n",
    "    print(\"some\")"
   ]
  },
  {
   "cell_type": "code",
   "execution_count": 15,
   "id": "16b56511",
   "metadata": {},
   "outputs": [
    {
     "name": "stdout",
     "output_type": "stream",
     "text": [
      "You must enter an integer value.\n",
      "THE END.\n"
     ]
    }
   ],
   "source": [
    "try:\n",
    "    x = int(input(\"Enter a number: \"))\n",
    "    y = 1 / x\n",
    "    print(y)\n",
    "except ValueError:\n",
    "    print(\"You must enter an integer value.\")\n",
    "except:\n",
    "    print(\"Oh dear, something went wrong...\")\n",
    "\n",
    "print(\"THE END.\")"
   ]
  },
  {
   "cell_type": "markdown",
   "id": "627d07c0",
   "metadata": {},
   "source": [
    "# Error is not handled correctly here, and there isn't a general except block, so an error occurs!"
   ]
  },
  {
   "cell_type": "code",
   "execution_count": 4,
   "id": "355d9708",
   "metadata": {},
   "outputs": [
    {
     "name": "stdout",
     "output_type": "stream",
     "text": [
      "0.14285714285714285\n",
      "THE END.\n"
     ]
    }
   ],
   "source": [
    "try:\n",
    "    x = int(input(\"Enter a number: \"))\n",
    "    y = 1 / x\n",
    "    print(y)\n",
    "except ValueError:\n",
    "    print(\"You must enter an integer value.\")\n",
    "print(\"THE END.\")\n"
   ]
  },
  {
   "cell_type": "markdown",
   "id": "854bb95f",
   "metadata": {},
   "source": [
    "!image[C:\\Users\\dtaylor\\Pictures\\Screenshot 2025-04-17 100824.png]"
   ]
  },
  {
   "cell_type": "code",
   "execution_count": null,
   "id": "76a1ec5b",
   "metadata": {},
   "outputs": [],
   "source": []
  },
  {
   "cell_type": "markdown",
   "id": "62d9585b",
   "metadata": {},
   "source": [
    "# Built-in Exceptions\n",
    "ArithmeticError:\n",
    "Location: BaseException <- Exception <- ArithmeticError\n",
    "Any arithmetic operations exceptions like invalid domain or zero division\n",
    "\n",
    "AssertionError:\n",
    "Location: BaseException <- Exception <- AssertionError\n",
    "Argument evaluates to False, None, 0, or empty string\n",
    "\n",
    "BaseException:\n",
    "most abstract, includes all other exceptions.\n",
    "except:\n",
    "except BaseException:\n",
    "\n",
    "are equivalent\n",
    "\n",
    "\n",
    "LookupError:\n",
    "BaseException <- Exception <- LookupError\n",
    "abstract that includes all errors for invalid references to different collections (lists, dictionaries, tuples, etc)\n",
    "\n",
    "KeyError\n",
    "Location: BaseException ← Exception ← LookupError ← KeyError\n",
    "Description: a concrete exception raised when you try to access a collection's non-existent element (e.g., a dictionary's element)\n",
    "\n",
    "\n",
    "\n",
    "IndexError:\n",
    "BaseException <- Exception <- LookupError <- IndexError\n",
    "aaccessing a  non-existent seqeuence's element (basically index that doesnt exist)\n",
    "\n",
    "KeyboardInterrupt\n",
    "BaseException <- KeyboardInterrupt\n",
    "note this isnt in the Exception class, its just when u use the keyboard shorcut to terminate (like CtrlC)\n",
    "\n",
    "\n",
    "MemoryError:\n",
    "Location: BaseException ← Exception ← MemoryError\n",
    "concrete exception raised when an operation cannot be completed due to a lack of free memory\n",
    "\n",
    "OverflowError\n",
    "BaseException ← Exception ← ArithmeticError ← OverflowError\n",
    "concrete exception raised when an operation produces a number too big to be successfully stored\n",
    "\n",
    "ImportError:\n",
    "Location: BaseException ← Exception ← StandardError ← ImportError\n",
    "Description: a concrete exception raised when an import operation fail"
   ]
  },
  {
   "cell_type": "code",
   "execution_count": 6,
   "id": "005bed1b",
   "metadata": {},
   "outputs": [
    {
     "name": "stdout",
     "output_type": "stream",
     "text": [
      "One of your imports has failed.\n"
     ]
    }
   ],
   "source": [
    "# ImportError\n",
    "\n",
    "# One of these imports will fail - which one?\n",
    "\n",
    "try:\n",
    "    import math\n",
    "    import time\n",
    "    import abracadabra\n",
    "\n",
    "except:\n",
    "    print('One of your imports has failed.')"
   ]
  },
  {
   "cell_type": "code",
   "execution_count": 5,
   "id": "386f05d0",
   "metadata": {},
   "outputs": [
    {
     "name": "stdout",
     "output_type": "stream",
     "text": [
      "b\n",
      "c\n",
      "d\n",
      "No such key: d\n"
     ]
    }
   ],
   "source": [
    "#KeyError\n",
    "\n",
    "# How to abuse the dictionary\n",
    "# and how to deal with it?\n",
    "\n",
    "dictionary = { 'a': 'b', 'b': 'c', 'c': 'd' }\n",
    "ch = 'a'\n",
    "\n",
    "try:\n",
    "    while True:\n",
    "        ch = dictionary[ch]\n",
    "        print(ch)\n",
    "except KeyError:\n",
    "    print('No such key:', ch)"
   ]
  },
  {
   "cell_type": "markdown",
   "id": "ec2e110a",
   "metadata": {},
   "source": [
    "# Error Handling Lab\n",
    "<i>Objectives:</i>\n",
    "improving the student's skills in defining functions;\n",
    "using exceptions in order to provide a safe input environment.\n",
    "\n",
    "Scenario\n",
    "Your task is to write a function able to input integer values and to check if they are within a specified range.\n",
    "\n",
    "The function should:\n",
    "\n",
    "accept three arguments: a prompt, a low acceptable limit, and a high acceptable limit;\n",
    "if the user enters a string that is not an integer value, the function should emit the message Error: wrong input, and ask the user to input the value again;\n",
    "if the user enters a number which falls outside the specified range, the function should emit the message Error: the value is not within permitted range (min..max) and ask the user to input the value again;\n",
    "if the input value is valid, return it as a result.\n",
    "\n",
    "This is how the function should react to the user's input:\n",
    "\n",
    "Enter a number from -10 to 10: 100\n",
    "Error: the value is not within permitted range (-10..10)\n",
    "Enter a number from -10 to 10: asd\n",
    "Error: wrong input\n",
    "Enter number from -10 to 10: 1\n",
    "The number is: 1"
   ]
  },
  {
   "cell_type": "code",
   "execution_count": null,
   "id": "c9f0787d",
   "metadata": {},
   "outputs": [
    {
     "name": "stdout",
     "output_type": "stream",
     "text": [
      "Error: Wrong input!\n",
      "Error: Number entered is not within permitted range ( -10 . . . 10 )\n",
      "Error: Number entered is not within permitted range ( -10 . . . 10 )\n",
      "Error: Number entered is not within permitted range ( -10 . . . 10 )\n",
      "The number is:  3\n"
     ]
    }
   ],
   "source": [
    "def read_int(prompt, min, max):\n",
    "    try: \n",
    "        num = int(input(prompt))\n",
    "        if ((num < min) or (num > max)):\n",
    "            raise ArithmeticError\n",
    "        else:\n",
    "            return num\n",
    "    except ArithmeticError:\n",
    "        print(\"Error: Number entered is not within permitted range (\", min, \". . .\", max, \")\")\n",
    "        return read_int(prompt, min, max)\n",
    "    except:\n",
    "        print(\"Error: Wrong input!\")\n",
    "        return read_int(prompt, min, max)\n",
    "\n",
    "v = read_int(\"Enter a number from -10 to 10: \", -10, 10)\n",
    "print(\"The number is: \", v)"
   ]
  },
  {
   "cell_type": "markdown",
   "id": "18ce1aa1",
   "metadata": {},
   "source": [
    "# Object-Oriented Programming\n",
    "\n",
    "\n",
    "In this module, you will learn about:\n",
    "\n",
    "Basic concepts of object-oriented programming (OOP)\n",
    "The differences between the procedural and object approaches (motivations and profits)\n",
    "Classes, objects, properties, and methods;\n",
    "Designing reusable classes and creating objects;\n",
    "Inheritance and polymorphism;\n",
    "Exceptions as objects."
   ]
  },
  {
   "cell_type": "markdown",
   "id": "8d0e4ea6",
   "metadata": {},
   "source": [
    "# Notes\n",
    "classes are class [CLASSNAME]:, can't name an object \"class\" since its a keyword"
   ]
  },
  {
   "cell_type": "code",
   "execution_count": 18,
   "id": "01fa26a3",
   "metadata": {},
   "outputs": [
    {
     "name": "stdout",
     "output_type": "stream",
     "text": [
      "<__main__.TheSimplestClass object at 0x0000021DE59F96A0>\n"
     ]
    }
   ],
   "source": [
    "class TheSimplestClass:\n",
    "    pass\n",
    "\n",
    "my_first_object = TheSimplestClass()\n",
    "print(my_first_object)"
   ]
  },
  {
   "cell_type": "markdown",
   "id": "497e64bb",
   "metadata": {},
   "source": [
    "# Stack in Python\n",
    "push by stack.append(val)\n",
    "pop by \n",
    "val = stack[-1]\n",
    "del stack[-1]\n",
    "return val"
   ]
  },
  {
   "cell_type": "code",
   "execution_count": null,
   "id": "7937416e",
   "metadata": {},
   "outputs": [],
   "source": [
    "stack = []\n",
    "\n",
    "def push(val):\n",
    "    stack.append(val)\n",
    "\n",
    "\n",
    "def pop():\n",
    "    val = stack[-1]\n",
    "    del stack[-1]\n",
    "    return val\n",
    "\n",
    "\n",
    "push(3)\n",
    "push(2)\n",
    "push(1)\n",
    "\n",
    "print(pop())\n",
    "print(pop())\n",
    "print(pop())\n",
    "\n",
    "# The stack is empty now, so let's try to pop again"
   ]
  },
  {
   "cell_type": "code",
   "execution_count": null,
   "id": "e3f617d2",
   "metadata": {},
   "outputs": [],
   "source": []
  }
 ],
 "metadata": {
  "kernelspec": {
   "display_name": "Python 3",
   "language": "python",
   "name": "python3"
  },
  "language_info": {
   "codemirror_mode": {
    "name": "ipython",
    "version": 3
   },
   "file_extension": ".py",
   "mimetype": "text/x-python",
   "name": "python",
   "nbconvert_exporter": "python",
   "pygments_lexer": "ipython3",
   "version": "3.13.2"
  }
 },
 "nbformat": 4,
 "nbformat_minor": 5
}
