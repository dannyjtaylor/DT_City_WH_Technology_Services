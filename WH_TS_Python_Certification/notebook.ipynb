{
 "cells": [
  {
   "cell_type": "markdown",
   "id": "b34627d3",
   "metadata": {},
   "source": [
    "# Hello! This is my Python notebook for the Python 2 Certification. All my notes, test programs, and labs will be stored here."
   ]
  },
  {
   "cell_type": "markdown",
   "id": "a89e89a7",
   "metadata": {},
   "source": [
    "# Error Handling"
   ]
  },
  {
   "cell_type": "code",
   "execution_count": 16,
   "id": "9ce115ae",
   "metadata": {},
   "outputs": [
    {
     "name": "stdout",
     "output_type": "stream",
     "text": [
      "zero\n"
     ]
    }
   ],
   "source": [
    "try:\n",
    "    print(\"alpha\"[4/0])\n",
    "except ZeroDivisionError:\n",
    "    print(\"zero\")\n",
    "except IndexError:\n",
    "    print(\"index\")\n",
    "except:\n",
    "    print(\"some\")"
   ]
  },
  {
   "cell_type": "code",
   "execution_count": 15,
   "id": "16b56511",
   "metadata": {},
   "outputs": [
    {
     "name": "stdout",
     "output_type": "stream",
     "text": [
      "You must enter an integer value.\n",
      "THE END.\n"
     ]
    }
   ],
   "source": [
    "try:\n",
    "    x = int(input(\"Enter a number: \"))\n",
    "    y = 1 / x\n",
    "    print(y)\n",
    "except ValueError:\n",
    "    print(\"You must enter an integer value.\")\n",
    "except:\n",
    "    print(\"Oh dear, something went wrong...\")\n",
    "\n",
    "print(\"THE END.\")"
   ]
  },
  {
   "cell_type": "markdown",
   "id": "627d07c0",
   "metadata": {},
   "source": [
    "# Error is not handled correctly here, and there isn't a general except block, so an error occurs!"
   ]
  },
  {
   "cell_type": "code",
   "execution_count": 4,
   "id": "355d9708",
   "metadata": {},
   "outputs": [
    {
     "name": "stdout",
     "output_type": "stream",
     "text": [
      "0.14285714285714285\n",
      "THE END.\n"
     ]
    }
   ],
   "source": [
    "try:\n",
    "    x = int(input(\"Enter a number: \"))\n",
    "    y = 1 / x\n",
    "    print(y)\n",
    "except ValueError:\n",
    "    print(\"You must enter an integer value.\")\n",
    "print(\"THE END.\")\n"
   ]
  },
  {
   "cell_type": "markdown",
   "id": "854bb95f",
   "metadata": {},
   "source": [
    "!image[C:\\Users\\dtaylor\\Pictures\\Screenshot 2025-04-17 100824.png]"
   ]
  },
  {
   "cell_type": "code",
   "execution_count": null,
   "id": "76a1ec5b",
   "metadata": {},
   "outputs": [],
   "source": []
  },
  {
   "cell_type": "markdown",
   "id": "62d9585b",
   "metadata": {},
   "source": [
    "# Built-in Exceptions\n",
    "ArithmeticError:\n",
    "Location: BaseException <- Exception <- ArithmeticError\n",
    "Any arithmetic operations exceptions like invalid domain or zero division\n",
    "\n",
    "AssertionError:\n",
    "Location: BaseException <- Exception <- AssertionError\n",
    "Argument evaluates to False, None, 0, or empty string\n",
    "\n",
    "BaseException:\n",
    "most abstract, includes all other exceptions.\n",
    "except:\n",
    "except BaseException:\n",
    "\n",
    "are equivalent\n",
    "\n",
    "\n",
    "LookupError:\n",
    "BaseException <- Exception <- LookupError\n",
    "abstract that includes all errors for invalid references to different collections (lists, dictionaries, tuples, etc)\n",
    "\n",
    "KeyError\n",
    "Location: BaseException ← Exception ← LookupError ← KeyError\n",
    "Description: a concrete exception raised when you try to access a collection's non-existent element (e.g., a dictionary's element)\n",
    "\n",
    "\n",
    "\n",
    "IndexError:\n",
    "BaseException <- Exception <- LookupError <- IndexError\n",
    "aaccessing a  non-existent seqeuence's element (basically index that doesnt exist)\n",
    "\n",
    "KeyboardInterrupt\n",
    "BaseException <- KeyboardInterrupt\n",
    "note this isnt in the Exception class, its just when u use the keyboard shorcut to terminate (like CtrlC)\n",
    "\n",
    "\n",
    "MemoryError:\n",
    "Location: BaseException ← Exception ← MemoryError\n",
    "concrete exception raised when an operation cannot be completed due to a lack of free memory\n",
    "\n",
    "OverflowError\n",
    "BaseException ← Exception ← ArithmeticError ← OverflowError\n",
    "concrete exception raised when an operation produces a number too big to be successfully stored\n",
    "\n",
    "ImportError:\n",
    "Location: BaseException ← Exception ← StandardError ← ImportError\n",
    "Description: a concrete exception raised when an import operation fail"
   ]
  },
  {
   "cell_type": "code",
   "execution_count": 6,
   "id": "005bed1b",
   "metadata": {},
   "outputs": [
    {
     "name": "stdout",
     "output_type": "stream",
     "text": [
      "One of your imports has failed.\n"
     ]
    }
   ],
   "source": [
    "# ImportError\n",
    "\n",
    "# One of these imports will fail - which one?\n",
    "\n",
    "try:\n",
    "    import math\n",
    "    import time\n",
    "    import abracadabra\n",
    "\n",
    "except:\n",
    "    print('One of your imports has failed.')"
   ]
  },
  {
   "cell_type": "code",
   "execution_count": 5,
   "id": "386f05d0",
   "metadata": {},
   "outputs": [
    {
     "name": "stdout",
     "output_type": "stream",
     "text": [
      "b\n",
      "c\n",
      "d\n",
      "No such key: d\n"
     ]
    }
   ],
   "source": [
    "#KeyError\n",
    "\n",
    "# How to abuse the dictionary\n",
    "# and how to deal with it?\n",
    "\n",
    "dictionary = { 'a': 'b', 'b': 'c', 'c': 'd' }\n",
    "ch = 'a'\n",
    "\n",
    "try:\n",
    "    while True:\n",
    "        ch = dictionary[ch]\n",
    "        print(ch)\n",
    "except KeyError:\n",
    "    print('No such key:', ch)"
   ]
  },
  {
   "cell_type": "markdown",
   "id": "ec2e110a",
   "metadata": {},
   "source": [
    "# Error Handling Lab\n",
    "<i>Objectives:</i>\n",
    "improving the student's skills in defining functions;\n",
    "using exceptions in order to provide a safe input environment.\n",
    "\n",
    "Scenario\n",
    "Your task is to write a function able to input integer values and to check if they are within a specified range.\n",
    "\n",
    "The function should:\n",
    "\n",
    "accept three arguments: a prompt, a low acceptable limit, and a high acceptable limit;\n",
    "if the user enters a string that is not an integer value, the function should emit the message Error: wrong input, and ask the user to input the value again;\n",
    "if the user enters a number which falls outside the specified range, the function should emit the message Error: the value is not within permitted range (min..max) and ask the user to input the value again;\n",
    "if the input value is valid, return it as a result.\n",
    "\n",
    "This is how the function should react to the user's input:\n",
    "\n",
    "Enter a number from -10 to 10: 100\n",
    "Error: the value is not within permitted range (-10..10)\n",
    "Enter a number from -10 to 10: asd\n",
    "Error: wrong input\n",
    "Enter number from -10 to 10: 1\n",
    "The number is: 1"
   ]
  },
  {
   "cell_type": "code",
   "execution_count": null,
   "id": "c9f0787d",
   "metadata": {},
   "outputs": [
    {
     "name": "stdout",
     "output_type": "stream",
     "text": [
      "Error: Wrong input!\n",
      "Error: Number entered is not within permitted range ( -10 . . . 10 )\n",
      "Error: Number entered is not within permitted range ( -10 . . . 10 )\n",
      "Error: Number entered is not within permitted range ( -10 . . . 10 )\n",
      "The number is:  3\n"
     ]
    }
   ],
   "source": [
    "def read_int(prompt, min, max):\n",
    "    try: \n",
    "        num = int(input(prompt))\n",
    "        if ((num < min) or (num > max)):\n",
    "            raise ArithmeticError\n",
    "        else:\n",
    "            return num\n",
    "    except ArithmeticError:\n",
    "        print(\"Error: Number entered is not within permitted range (\", min, \". . .\", max, \")\")\n",
    "        return read_int(prompt, min, max)\n",
    "    except:\n",
    "        print(\"Error: Wrong input!\")\n",
    "        return read_int(prompt, min, max)\n",
    "\n",
    "v = read_int(\"Enter a number from -10 to 10: \", -10, 10)\n",
    "print(\"The number is: \", v)"
   ]
  },
  {
   "cell_type": "markdown",
   "id": "18ce1aa1",
   "metadata": {},
   "source": [
    "# Object-Oriented Programming\n",
    "\n",
    "\n",
    "In this module, you will learn about:\n",
    "\n",
    "Basic concepts of object-oriented programming (OOP)\n",
    "The differences between the procedural and object approaches (motivations and profits)\n",
    "Classes, objects, properties, and methods;\n",
    "Designing reusable classes and creating objects;\n",
    "Inheritance and polymorphism;\n",
    "Exceptions as objects."
   ]
  },
  {
   "cell_type": "markdown",
   "id": "8d0e4ea6",
   "metadata": {},
   "source": [
    "# Notes\n",
    "classes are class [CLASSNAME]:, can't name an object \"class\" since its a keyword"
   ]
  },
  {
   "cell_type": "code",
   "execution_count": 18,
   "id": "01fa26a3",
   "metadata": {},
   "outputs": [
    {
     "name": "stdout",
     "output_type": "stream",
     "text": [
      "<__main__.TheSimplestClass object at 0x0000021DE59F96A0>\n"
     ]
    }
   ],
   "source": [
    "class TheSimplestClass:\n",
    "    pass\n",
    "\n",
    "my_first_object = TheSimplestClass()\n",
    "print(my_first_object)"
   ]
  },
  {
   "cell_type": "markdown",
   "id": "497e64bb",
   "metadata": {},
   "source": [
    "# Stack in Python\n",
    "push by stack.append(val)\n",
    "pop by \n",
    "val = stack[-1]\n",
    "del stack[-1]\n",
    "return val"
   ]
  },
  {
   "cell_type": "code",
   "execution_count": 4,
   "id": "7937416e",
   "metadata": {},
   "outputs": [
    {
     "name": "stdout",
     "output_type": "stream",
     "text": [
      "1\n",
      "2\n",
      "3\n"
     ]
    }
   ],
   "source": [
    "stack = []\n",
    "\n",
    "def push(val):\n",
    "    stack.append(val)\n",
    "\n",
    "\n",
    "def pop():\n",
    "    val = stack[-1]\n",
    "    del stack[-1]\n",
    "    return val\n",
    "\n",
    "\n",
    "push(3)\n",
    "push(2)\n",
    "push(1)\n",
    "\n",
    "print(pop())\n",
    "print(pop())\n",
    "print(pop())\n",
    "\n",
    "# The stack is empty now, so let's try to pop again"
   ]
  },
  {
   "cell_type": "code",
   "execution_count": 5,
   "id": "e3f617d2",
   "metadata": {},
   "outputs": [
    {
     "name": "stdout",
     "output_type": "stream",
     "text": [
      "Hi!\n"
     ]
    }
   ],
   "source": [
    "# Creating an Object\n",
    "class Stack:  # Defining the Stack class.\n",
    "    def __init__(self):  # Defining the constructor function.\n",
    "        print(\"Hi!\")\n",
    "\n",
    "\n",
    "stack_object = Stack()  # Instantiating the object.\n",
    "# constructor's name is always __init__, self is actually convention but always use it."
   ]
  },
  {
   "cell_type": "code",
   "execution_count": 6,
   "id": "a943fd45",
   "metadata": {},
   "outputs": [
    {
     "name": "stdout",
     "output_type": "stream",
     "text": [
      "0\n"
     ]
    }
   ],
   "source": [
    "class Stack:\n",
    "    def __init__(self):\n",
    "        self.stack_list = []\n",
    "\n",
    "\n",
    "stack_object = Stack()\n",
    "print(len(stack_object.stack_list))\n",
    "# prints 0, since the list (stack) is empty.\n",
    "# see how the dot operator is used to access the stack_list attribute of the object"
   ]
  },
  {
   "cell_type": "code",
   "execution_count": 7,
   "id": "19b29084",
   "metadata": {},
   "outputs": [
    {
     "ename": "AttributeError",
     "evalue": "'Stack' object has no attribute '__stack_list'",
     "output_type": "error",
     "traceback": [
      "\u001b[31m---------------------------------------------------------------------------\u001b[39m",
      "\u001b[31mAttributeError\u001b[39m                            Traceback (most recent call last)",
      "\u001b[36mCell\u001b[39m\u001b[36m \u001b[39m\u001b[32mIn[7]\u001b[39m\u001b[32m, line 8\u001b[39m\n\u001b[32m      5\u001b[39m         \u001b[38;5;28mself\u001b[39m.__stack_list = []\n\u001b[32m      7\u001b[39m stack_object = Stack()\n\u001b[32m----> \u001b[39m\u001b[32m8\u001b[39m \u001b[38;5;28mprint\u001b[39m(\u001b[38;5;28mlen\u001b[39m(\u001b[43mstack_object\u001b[49m\u001b[43m.\u001b[49m\u001b[43m__stack_list\u001b[49m))\n\u001b[32m     11\u001b[39m \u001b[38;5;66;03m#The change invalidates the program.\u001b[39;00m\n\u001b[32m     12\u001b[39m \n\u001b[32m     13\u001b[39m \u001b[38;5;66;03m#Why?\u001b[39;00m\n\u001b[32m   (...)\u001b[39m\u001b[32m     18\u001b[39m \n\u001b[32m     19\u001b[39m \u001b[38;5;66;03m#Run the program to test our assumptions - an AttributeError exception should be raised\u001b[39;00m\n",
      "\u001b[31mAttributeError\u001b[39m: 'Stack' object has no attribute '__stack_list'"
     ]
    }
   ],
   "source": [
    "#Take a look - we've added two underscores before the stack_list name - nothing more:\n",
    "\n",
    "class Stack:\n",
    "    def __init__(self):\n",
    "        self.__stack_list = []\n",
    "\n",
    "stack_object = Stack()\n",
    "print(len(stack_object.__stack_list))\n",
    "\n",
    "\n",
    "#The change invalidates the program.\n",
    "\n",
    "#Why?\n",
    "\n",
    "#When any class component has a name starting with two underscores (__), it becomes private - this means that it can be accessed only from within the class.\n",
    "\n",
    "#You cannot see it from the outside world. This is how Python implements the encapsulation concept.\n",
    "\n",
    "#Run the program to test our assumptions - an AttributeError exception should be raised"
   ]
  },
  {
   "cell_type": "code",
   "execution_count": null,
   "id": "690606b8",
   "metadata": {},
   "outputs": [],
   "source": [
    "#The object approach: a stack from scratch\n",
    "#Now it's time for the two functions (methods) implementing the push and pop operations. Python assumes that a function of this kind (a class activity) should be immersed inside the class body - just like a constructor.\n",
    "\n",
    "#We want to invoke these functions to push and pop values. This means that they should both be accessible to every class's user (in contrast to the previously constructed list, which is hidden from the ordinary class's users).\n",
    "\n",
    "#Such a component is called public, so you can't begin its name with two (or more) underscores. There is one more requirement - the name must have no more than one trailing underscore. As no trailing underscores at all fully meets the requirement, you can assume that the name is acceptable.\n",
    "\n",
    "#The functions themselves are simple. Take a look:\n",
    "\n",
    "class Stack:\n",
    "    def __init__(self):\n",
    "        self.__stack_list = []\n",
    "\n",
    "    def push(self, val):\n",
    "        self.__stack_list.append(val)\n",
    "\n",
    "    def pop(self):\n",
    "        val = self.__stack_list[-1]\n",
    "        del self.__stack_list[-1]\n",
    "        return val\n",
    "\n",
    "\n",
    "stack_object = Stack()\n",
    "\n",
    "stack_object.push(3)\n",
    "stack_object.push(2)\n",
    "stack_object.push(1)\n",
    "\n",
    "print(stack_object.pop())\n",
    "print(stack_object.pop())\n",
    "print(stack_object.pop())\n",
    "\n",
    "\n",
    "#However, there's something really strange in the code. The functions look familiar, but they have more parameters than their procedural counterparts.\n",
    "\n",
    "#Here, both functions have a parameter named self at the first position of the parameters list.\n",
    "\n",
    "#Is it needed? Yes, it is.\n",
    "\n",
    "#All methods have to have this parameter. It plays the same role as the first constructor parameter.\n",
    "\n",
    "#It allows the method to access entities (properties and activities/methods) carried out by the actual object. You cannot omit it. Every time Python invokes a method, it implicitly sends the current object as the first argument.\n",
    "\n",
    "#This means that a method is obligated to have at least one parameter, which is used by Python itself - you don't have any influence on it.\n",
    "\n",
    "#If your method needs no parameters at all, this one must be specified anyway. If it's designed to process just one parameter, you have to specify two, and the first one's role is still the same.\n",
    "\n",
    "#There is one more thing that requires explanation - the way in which methods are invoked from within the __stack_list variable.\n",
    "\n",
    "#Fortunately, it's much simpler than it looks:\n",
    "\n",
    "#the first stage delivers the object as a whole → self;\n",
    "#next, you need to get to the __stack_list list → self.__stack_list;\n",
    "#with __stack_list ready to be used, you can perform the third and last step → self.__stack_list.append(val).\n",
    "#The class declaration is complete, and all its components have been listed. The class is ready for use."
   ]
  },
  {
   "cell_type": "code",
   "execution_count": null,
   "id": "912b4326",
   "metadata": {},
   "outputs": [],
   "source": [
    "class Stack:\n",
    "    def __init__(self):\n",
    "        self.__stack_list = []\n",
    "\n",
    "    def push(self, val):\n",
    "        self.__stack_list.append(val)\n",
    "\n",
    "    def pop(self):\n",
    "        val = self.__stack_list[-1]\n",
    "        del self.__stack_list[-1]\n",
    "        return val\n",
    "\n",
    "\n",
    "stack_object_1 = Stack()\n",
    "stack_object_2 = Stack()\n",
    "\n",
    "stack_object_1.push(3)\n",
    "stack_object_2.push(stack_object_1.pop())\n",
    "\n",
    "print(stack_object_2.pop())\n",
    "\n",
    "# Prints 3, since we push into first stack, and then pop that pushed item into the seecond stack (as a push to second stack), and then pop from the second stack"
   ]
  },
  {
   "cell_type": "code",
   "execution_count": null,
   "id": "da9e561e",
   "metadata": {},
   "outputs": [
    {
     "name": "stdout",
     "output_type": "stream",
     "text": [
      "0\n"
     ]
    }
   ],
   "source": [
    "class Stack:\n",
    "    def __init__(self):\n",
    "        self.__stack_list = []\n",
    "\n",
    "    def push(self, val):\n",
    "        self.__stack_list.append(val)\n",
    "\n",
    "    def pop(self):\n",
    "        val = self.__stack_list[-1]\n",
    "        del self.__stack_list[-1]\n",
    "        return val\n",
    "\n",
    "\n",
    "little_stack = Stack()\n",
    "another_stack = Stack()\n",
    "funny_stack = Stack()\n",
    "\n",
    "little_stack.push(1)\n",
    "another_stack.push(little_stack.pop() + 1)\n",
    "funny_stack.push(another_stack.pop() - 2)\n",
    "\n",
    "print(funny_stack.pop())\n",
    "\n",
    "# should print 0"
   ]
  },
  {
   "cell_type": "code",
   "execution_count": null,
   "id": "73b01052",
   "metadata": {},
   "outputs": [],
   "source": [
    "class AddingStack(Stack):\n",
    "    def __init__(self):\n",
    "        Stack.__init__(self)\n",
    "        self.__sum = 0\n",
    "\n",
    "\n",
    "#The second line of the constructor's body creates a property named __sum - it will store the total of all the stack's values.\n",
    "\n",
    "#But the line before it looks different. What does it do? Is it really necessary? Yes, it is.\n",
    "\n",
    "#Contrary to many other languages, Python forces you to explicitly invoke a superclass's constructor. Omitting this point will have harmful effects - the object will be deprived of the __stack_list list. Such a stack will not function properly.\n",
    "\n",
    "#This is the only time you can invoke any of the available constructors explicitly - it can be done inside the subclass's constructor.\n",
    "\n",
    "#Note the syntax:\n",
    "\n",
    "#you specify the superclass's name (this is the class whose constructor you want to run)\n",
    "#you put a dot (.)after it;\n",
    "#you specify the name of the constructor;\n",
    "#you have to point to the object (the class's instance) which has to be initialized by the constructor - this is why you have to specify the argument and use the self variable here; note: invoking any method (including constructors) from outside the class never requires you to put the self argument at the argument's list - invoking a method from within the class demands explicit usage of the self argument, and it has to be put first on the list.\n",
    "#Note: it's generally a recommended practice to invoke the superclass's constructor before any other initializations you want to perform inside the subclass. This is the rule we have followed in the snippet."
   ]
  },
  {
   "cell_type": "code",
   "execution_count": null,
   "id": "37dc0866",
   "metadata": {},
   "outputs": [],
   "source": [
    "class Stack:\n",
    "    def __init__(self):\n",
    "        self.__stackList = []\n",
    "\n",
    "    def push(self, val):\n",
    "        self.__sum += val\n",
    "        self.__stackList.append(val)\n",
    "\n",
    "    def pop(self):\n",
    "        val = self.__stackList[-1]\n",
    "        self.__sum -= val\n",
    "        del self.__stackList[-1]\n",
    "        return val\n",
    "\n",
    "\n",
    "class AddingStack(Stack):\n",
    "    def __init__(self):\n",
    "        Stack.__init__(self)\n",
    "        self.__sum = 0"
   ]
  },
  {
   "cell_type": "markdown",
   "id": "10138984",
   "metadata": {},
   "source": [
    "## Get Function"
   ]
  },
  {
   "cell_type": "code",
   "execution_count": null,
   "id": "daf4d47f",
   "metadata": {},
   "outputs": [],
   "source": [
    "def get_sum(self):\n",
    "    return self.__sum"
   ]
  },
  {
   "cell_type": "markdown",
   "id": "0131bde3",
   "metadata": {},
   "source": [
    "hasattr"
   ]
  },
  {
   "cell_type": "code",
   "execution_count": 3,
   "id": "930376f8",
   "metadata": {},
   "outputs": [
    {
     "name": "stdout",
     "output_type": "stream",
     "text": [
      "1\n"
     ]
    }
   ],
   "source": [
    "# The try-except instruction gives you the chance to avoid issues with non-existent properties.\n",
    "\n",
    "# It's easy - look at the code in the editor.\n",
    "\n",
    "# As you can see, this action isn't very sophisticated. Essentially, we've just swept the issue under the carpet.\n",
    "\n",
    "# Fortunately, there is one more way to cope with the issue.\n",
    "\n",
    "\n",
    "# Python provides a function which is able to safely check if any object/class contains a specified property. The function is named hasattr, and expects two arguments to be passed to it:\n",
    "\n",
    "# the class or the object being checked;\n",
    "# the name of the property whose existence has to be reported (note: it has to be a string containing the attribute name, not the name alone)\n",
    "# The function returns True or False.\n",
    "\n",
    "# This is how you can utilize it\n",
    "\n",
    "class ExampleClass:\n",
    "    def __init__(self, val):\n",
    "        if val % 2 != 0:\n",
    "            self.a = 1\n",
    "        else:\n",
    "            self.b = 1\n",
    "\n",
    "\n",
    "example_object = ExampleClass(1)\n",
    "print(example_object.a)\n",
    "\n",
    "if hasattr(example_object, 'b'):\n",
    "    print(example_object.b)\n",
    "\n",
    "\n"
   ]
  },
  {
   "cell_type": "code",
   "execution_count": 4,
   "id": "7ab45100",
   "metadata": {},
   "outputs": [
    {
     "name": "stdout",
     "output_type": "stream",
     "text": [
      "True\n",
      "True\n",
      "False\n",
      "True\n"
     ]
    }
   ],
   "source": [
    "class ExampleClass:\n",
    "    a = 1\n",
    "    def __init__(self):\n",
    "        self.b = 2\n",
    "\n",
    "\n",
    "example_object = ExampleClass()\n",
    "\n",
    "print(hasattr(example_object, 'b'))\n",
    "print(hasattr(example_object, 'a'))\n",
    "print(hasattr(ExampleClass, 'b'))\n",
    "print(hasattr(ExampleClass, 'a'))"
   ]
  },
  {
   "cell_type": "code",
   "execution_count": null,
   "id": "3c0059ba",
   "metadata": {},
   "outputs": [],
   "source": []
  },
  {
   "cell_type": "code",
   "execution_count": null,
   "id": "860c674b",
   "metadata": {},
   "outputs": [],
   "source": [
    "# 1. An instance variable is a property whose existence depends on the creation of an object. Every object can have a different set of instance variables.\n",
    "\n",
    "# Moreover, they can be freely added to and removed from objects during their lifetime. All object instance variables are stored inside a dedicated dictionary named __dict__, contained in every object separately.\n",
    "\n",
    "\n",
    "# 2. An instance variable can be private when its name starts with __, but don't forget that such a property is still accessible from outside the class using a mangled name constructed as _ClassName__PrivatePropertyName.\n",
    "\n",
    "\n",
    "# 3. A class variable is a property which exists in exactly one copy, and doesn't need any created object to be accessible. Such variables are not shown as __dict__ content.\n",
    "\n",
    "# All a class's class variables are stored inside a dedicated dictionary named __dict__, contained in every class separately.\n",
    "\n",
    "\n",
    "# 4. A function named hasattr() can be used to determine if any object/class contains a specified property.\n",
    "\n",
    "# For example:\n",
    "\n",
    "class Sample:\n",
    "    gamma = 0 # Class variable.\n",
    "    def __init__(self):\n",
    "        self.alpha = 1 # Instance variable.\n",
    "        self.__delta = 3 # Private instance variable.\n",
    "\n",
    "\n",
    "obj = Sample()\n",
    "obj.beta = 2  # Another instance variable (existing only inside the \"obj\" instance.)\n",
    "print(obj.__dict__)\n",
    "\n",
    "\n",
    "# The code outputs:\n",
    "\n",
    "# {'alpha': 1, '_Sample__delta': 3, 'beta': 2}"
   ]
  },
  {
   "cell_type": "code",
   "execution_count": null,
   "id": "f6fc667c",
   "metadata": {},
   "outputs": [],
   "source": [
    "# Which of the Python class properties are instance variables and which are class variables? Which of them are private?\n",
    "\n",
    "class Python:\n",
    "    population = 1\n",
    "    victims = 0\n",
    "    def __init__(self):\n",
    "        self.length_ft = 3\n",
    "        self.__venomous = False\n",
    "\n",
    "\n",
    "\n",
    "# population and victims are class variables, while length and __venomous are instance variables (the latter is also private)."
   ]
  },
  {
   "cell_type": "code",
   "execution_count": null,
   "id": "4e955078",
   "metadata": {},
   "outputs": [],
   "source": [
    "# You're going to negate the __venomous property of the version_2 object, ignoring the fact that the property is private. How will you do this?\n",
    "\n",
    "version_2 = Python()\n",
    "\n",
    "\n",
    "# version_2._Python__venomous = not version_2._Python__venomous"
   ]
  },
  {
   "cell_type": "code",
   "execution_count": null,
   "id": "7ea62387",
   "metadata": {},
   "outputs": [],
   "source": [
    "# Methods in detail: continued\n",
    "# The self parameter is used to obtain access to the object's instance and class variables.\n",
    "\n",
    "# The example shows both ways of utilizing self:\n",
    "\n",
    "class Classy:\n",
    "    varia = 2\n",
    "    def method(self):\n",
    "        print(self.varia, self.var)\n",
    "\n",
    "\n",
    "obj = Classy()\n",
    "obj.var = 3\n",
    "obj.method()\n",
    "\n",
    "\n",
    "# The code outputs:\n",
    "\n",
    "# 2 3\n",
    "# output\n",
    "\n",
    "# The self parameter is also used to invoke other object/class methods from inside the class.\n",
    "\n",
    "# Just like here:\n",
    "\n",
    "class Classy:\n",
    "    def other(self):\n",
    "        print(\"other\")\n",
    "\n",
    "    def method(self):\n",
    "        print(\"method\")\n",
    "        self.other()\n",
    "\n",
    "\n",
    "obj = Classy()\n",
    "obj.method()\n",
    "\n",
    "\n",
    "# The code outputs:\n",
    "\n",
    "# method\n",
    "# other"
   ]
  },
  {
   "cell_type": "code",
   "execution_count": null,
   "id": "23091fb0",
   "metadata": {},
   "outputs": [],
   "source": [
    "class MyClass:\n",
    "    pass\n",
    "\n",
    "\n",
    "obj = MyClass()\n",
    "obj.a = 1\n",
    "obj.b = 2\n",
    "obj.i = 3\n",
    "obj.ireal = 3.5\n",
    "obj.integer = 4\n",
    "obj.z = 5\n",
    "\n",
    "\n",
    "def incIntsI(obj):\n",
    "    for name in obj.__dict__.keys():\n",
    "        if name.startswith('i'):\n",
    "            val = getattr(obj, name)\n",
    "            if isinstance(val, int):\n",
    "                setattr(obj, name, val + 1)\n",
    "\n",
    "\n",
    "print(obj.__dict__)\n",
    "incIntsI(obj)\n",
    "print(obj.__dict__)\n"
   ]
  },
  {
   "cell_type": "code",
   "execution_count": null,
   "id": "fa21941f",
   "metadata": {},
   "outputs": [],
   "source": [
    "When you're going to build a completely new universe filled with completely new creatures that have nothing in common with all the familiar things, you may want to build your own exception structure.\n",
    "\n",
    "For example, if you work on a large simulation system which is intended to model the activities of a pizza restaurant, it can be desirable to form a separate hierarchy of exceptions.\n",
    "\n",
    "You can start building it by defining a general exception as a new base class for any other specialized exception. We've done it in the following way:\n",
    "\n",
    "class PizzaError(Exception):\n",
    "    def __init__(self, pizza, message):\n",
    "        Exception.__init__(self, message)\n",
    "        self.pizza = pizza\n",
    "\n",
    "\n",
    "Note: we're going to collect more specific information here than a regular Exception does, so our constructor will take two arguments:\n",
    "\n",
    "one specifying a pizza as a subject of the process,\n",
    "and one containing a more or less precise description of the problem.\n",
    "As you can see, we pass the second parameter to the superclass constructor, and save the first inside our own property.\n",
    "\n",
    "A more specific problem (like an excess of cheese) can require a more specific exception. It's possible to derive the new class from the already defined PizzaError class, like we've done here:\n",
    "\n",
    "class TooMuchCheeseError(PizzaError):\n",
    "    def __init__(self, pizza, cheese, message):\n",
    "        PizzaError._init__(self, pizza, message)\n",
    "        self.cheese = cheese\n",
    "\n",
    "\n",
    "The TooMuchCheeseError exception needs more information than the regular PizzaError exception, so we add it to the constructor – the name cheese is then stored for further processing."
   ]
  },
  {
   "cell_type": "code",
   "execution_count": null,
   "id": "b624cbc1",
   "metadata": {},
   "outputs": [],
   "source": [
    "# Python 2 Module 4"
   ]
  },
  {
   "cell_type": "code",
   "execution_count": 6,
   "id": "00728224",
   "metadata": {},
   "outputs": [
    {
     "name": "stdout",
     "output_type": "stream",
     "text": [
      "0\n",
      "1\n",
      "2\n",
      "3\n",
      "4\n"
     ]
    }
   ],
   "source": [
    "def fun(n):\n",
    "    for i in range(n):\n",
    "        yield i\n",
    "\n",
    "\n",
    "for v in fun(5):\n",
    "    print(v)"
   ]
  },
  {
   "cell_type": "code",
   "execution_count": 7,
   "id": "19556328",
   "metadata": {},
   "outputs": [],
   "source": [
    "def fun(n):\n",
    "    for i in range(n):\n",
    "        return i\n",
    "\n",
    "\n",
    "# for v in fun(5):\n",
    "    # print(v)"
   ]
  },
  {
   "cell_type": "code",
   "execution_count": 8,
   "id": "7a3046dd",
   "metadata": {},
   "outputs": [
    {
     "name": "stdout",
     "output_type": "stream",
     "text": [
      "1\n",
      "2\n",
      "4\n",
      "8\n",
      "16\n",
      "32\n",
      "64\n",
      "128\n"
     ]
    }
   ],
   "source": [
    "def powers_of_2(n):\n",
    "    power = 1\n",
    "    for i in range(n):\n",
    "        yield power\n",
    "        power *= 2\n",
    "\n",
    "\n",
    "for v in powers_of_2(8):\n",
    "    print(v)"
   ]
  },
  {
   "cell_type": "markdown",
   "id": "54701606",
   "metadata": {},
   "source": [
    "### List Comprehensions"
   ]
  },
  {
   "cell_type": "code",
   "execution_count": 9,
   "id": "1eb27e57",
   "metadata": {},
   "outputs": [
    {
     "name": "stdout",
     "output_type": "stream",
     "text": [
      "[1, 10, 100, 1000, 10000, 100000]\n",
      "[1, 10, 100, 1000, 10000, 100000]\n"
     ]
    }
   ],
   "source": [
    "list_1 = []\n",
    "\n",
    "for ex in range(6):\n",
    "    list_1.append(10 ** ex)\n",
    "\n",
    "list_2 = [10 ** ex for ex in range(6)]\n",
    "\n",
    "print(list_1)\n",
    "print(list_2)\n"
   ]
  },
  {
   "cell_type": "code",
   "execution_count": null,
   "id": "09f387e6",
   "metadata": {},
   "outputs": [],
   "source": [
    "the_list = []\n",
    "\n",
    "for x in range(10):\n",
    "    the_list.append(1 if x % 2 == 0 else 0)\n",
    "\n",
    "print(the_list)\n"
   ]
  },
  {
   "cell_type": "markdown",
   "id": "80029bd3",
   "metadata": {},
   "source": [
    "## List Comprehensions vs Generators\n",
    "### comprehension - brackets,  generators - parenthesis"
   ]
  },
  {
   "cell_type": "markdown",
   "id": "78bcb883",
   "metadata": {},
   "source": []
  },
  {
   "cell_type": "code",
   "execution_count": 10,
   "id": "a2eb7905",
   "metadata": {},
   "outputs": [
    {
     "name": "stdout",
     "output_type": "stream",
     "text": [
      "1 0 1 0 1 0 1 0 1 0 \n",
      "1 0 1 0 1 0 1 0 1 0 \n"
     ]
    }
   ],
   "source": [
    "the_list = [1 if x % 2 == 0 else 0 for x in range(10)]\n",
    "the_generator = (1 if x % 2 == 0 else 0 for x in range(10))\n",
    "\n",
    "for v in the_list:\n",
    "    print(v, end=\" \")\n",
    "print()\n",
    "\n",
    "for v in the_generator:\n",
    "    print(v, end=\" \")\n",
    "print()"
   ]
  },
  {
   "cell_type": "markdown",
   "id": "a06a136b",
   "metadata": {},
   "source": [
    "# Lambda"
   ]
  },
  {
   "cell_type": "code",
   "execution_count": null,
   "id": "8b588217",
   "metadata": {},
   "outputs": [],
   "source": [
    "# The lambda function\n",
    "# The lambda function is a concept borrowed from mathematics, more specifically, from a part called the Lambda calculus, but these two phenomena are not the same.\n",
    "\n",
    "# Mathematicians use the Lambda calculus in many formal systems connected with logic, recursion, or theorem provability. Programmers use the lambda function to simplify the code, to make it clearer and easier to understand.\n",
    "\n",
    "# A lambda function is a function without a name (you can also call it an anonymous function). Of course, such a statement immediately raises the question: how do you use anything that cannot be identified?\n",
    "\n",
    "# Fortunately, it's not a problem, as you can name such a function if you really need, but, in fact, in many cases the lambda function can exist and work while remaining fully incognito.\n",
    "\n",
    "# The declaration of the lambda function doesn't resemble a normal function declaration in any way - see for yourself:\n",
    "\n",
    "# lambda parameters: expression\n",
    "\n",
    "\n",
    "# Such a clause returns the value of the expression when taking into account the current value of the current lambda argument.\n",
    "\n",
    "# As usual, an example will be helpful. Our example uses three lambda functions, but gives them names. Look at it carefully:\n",
    "\n",
    "two = lambda: 2\n",
    "sqr = lambda x: x * x\n",
    "pwr = lambda x, y: x ** y\n",
    "\n",
    "for a in range(-2, 3):\n",
    "    print(sqr(a), end=\" \")\n",
    "    print(pwr(a, two()))\n",
    "\n",
    "\n",
    "\n",
    "\n",
    "# Let's analzye it:\n",
    "\n",
    "# the first lambda is an anonymous parameterless function that always returns 2. As we've assigned it to a variable named two, we can say that the function is not anonymous anymore, and we can use the name to invoke it.\n",
    "\n",
    "# the second one is a one-parameter anonymous function that returns the value of its squared argument. We've named it as such, too.\n",
    "\n",
    "# the third lambda takes two parameters and returns the value of the first one raised to the power of the second one. The name of the variable which carries the lambda speaks for itself. We don't use pow to avoid confusion with the built-in function of the same name and the same purpose.\n",
    "\n",
    "# The program produces the following output:\n",
    "\n",
    "# 4 4\n",
    "# 1 1\n",
    "# 0 0\n",
    "# 1 1\n",
    "# 4 4\n",
    "# output\n",
    "\n",
    "# This example is clear enough to show how lambdas are declared and how they behave, but it says nothing about why they're necessary, and what they're used for, since they can all be replaced with routine Python functions.\n",
    "\n",
    "# Where is the benefit?\n",
    "\n",
    "\n"
   ]
  },
  {
   "cell_type": "code",
   "execution_count": 11,
   "id": "cfde9d32",
   "metadata": {},
   "outputs": [
    {
     "name": "stdout",
     "output_type": "stream",
     "text": [
      "[1, 2, 4, 8, 16]\n",
      "1 4 16 64 256 \n"
     ]
    }
   ],
   "source": [
    "# map function\n",
    "list_1 = [x for x in range(5)]\n",
    "list_2 = list(map(lambda x: 2 ** x, list_1))\n",
    "print(list_2)\n",
    "\n",
    "for x in map(lambda x: x * x, list_2):\n",
    "    print(x, end=' ')\n",
    "print()\n"
   ]
  },
  {
   "cell_type": "code",
   "execution_count": 12,
   "id": "91f9d22d",
   "metadata": {},
   "outputs": [
    {
     "name": "stdout",
     "output_type": "stream",
     "text": [
      "[-5, 5, 9, -6, 2]\n",
      "[2]\n"
     ]
    }
   ],
   "source": [
    "# filter function\n",
    "# Lambdas and the filter() function\n",
    "# Another Python function which can be significantly beautified by the application of a lambda is filter().\n",
    "\n",
    "# It expects the same kind of arguments as map(), but does something different - it filters its second argument while being guided by directions flowing from the function specified as the first argument (the function is invoked for each list element, just like in map()).\n",
    "\n",
    "# The elements which return True from the function pass the filter - the others are rejected.\n",
    "\n",
    "# The example in the editor shows the filter() function in action.\n",
    "\n",
    "# Note: we've made use of the random module to initialize the random number generator (not to be confused with the generators we've just talked about) with the seed() function, and to produce five random integer values from -10 to 10 using the randint() function.\n",
    "\n",
    "# The list is then filtered, and only the numbers which are even and greater than zero are accepted.\n",
    "\n",
    "# Of course, it's not likely that you'll receive the same results, but this is what our results looked like:\n",
    "\n",
    "# [6, 3, 3, 2, -7]\n",
    "# [6, 2]\n",
    "\n",
    "from random import seed, randint\n",
    "\n",
    "seed()\n",
    "data = [randint(-10,10) for x in range(5)]\n",
    "filtered = list(filter(lambda x: x > 0 and x % 2 == 0, data))\n",
    "\n",
    "print(data)\n",
    "print(filtered)\n"
   ]
  },
  {
   "cell_type": "code",
   "execution_count": null,
   "id": "2337e2bf",
   "metadata": {},
   "outputs": [],
   "source": [
    "# closures\n",
    "\n",
    "def outer(par):\n",
    "    loc = par\n",
    "\n",
    "    def inner():\n",
    "        return loc\n",
    "    return inner\n",
    "\n",
    "\n",
    "var = 1\n",
    "fun = outer(var)\n",
    "print(fun())\n",
    "\n",
    "\n",
    "#inner is the closure"
   ]
  }
 ],
 "metadata": {
  "kernelspec": {
   "display_name": "Python 3",
   "language": "python",
   "name": "python3"
  },
  "language_info": {
   "codemirror_mode": {
    "name": "ipython",
    "version": 3
   },
   "file_extension": ".py",
   "mimetype": "text/x-python",
   "name": "python",
   "nbconvert_exporter": "python",
   "pygments_lexer": "ipython3",
   "version": "3.13.2"
  }
 },
 "nbformat": 4,
 "nbformat_minor": 5
}
