{
 "cells": [
  {
   "cell_type": "markdown",
   "id": "61ee570f",
   "metadata": {},
   "source": [
    "# Hello! This is the hub for all the notes, practice codes, and labs I do while I do the Python 2 Certification!"
   ]
  },
  {
   "cell_type": "code",
   "execution_count": 2,
   "id": "0ee544d9",
   "metadata": {},
   "outputs": [
    {
     "name": "stdout",
     "output_type": "stream",
     "text": [
      "Hi!\n",
      "\n",
      "I am using Jupyter!\n"
     ]
    }
   ],
   "source": [
    "print(\"Hi!\")\n",
    "print()\n",
    "print(\"I am using Jupyter!\")"
   ]
  }
 ],
 "metadata": {
  "kernelspec": {
   "display_name": "Python 3",
   "language": "python",
   "name": "python3"
  },
  "language_info": {
   "codemirror_mode": {
    "name": "ipython",
    "version": 3
   },
   "file_extension": ".py",
   "mimetype": "text/x-python",
   "name": "python",
   "nbconvert_exporter": "python",
   "pygments_lexer": "ipython3",
   "version": "3.13.3"
  }
 },
 "nbformat": 4,
 "nbformat_minor": 5
}
