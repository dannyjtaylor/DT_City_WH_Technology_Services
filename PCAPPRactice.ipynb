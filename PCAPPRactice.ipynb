{
 "cells": [
  {
   "cell_type": "markdown",
   "id": "0ab1c294",
   "metadata": {},
   "source": [
    "# PCAP Exam Prep\n",
    "#### Module 1: Modules and Packages"
   ]
  },
  {
   "cell_type": "code",
   "execution_count": null,
   "id": "17d16e0d",
   "metadata": {},
   "outputs": [],
   "source": [
    "# The essentials of modules and packages\n",
    "# A namespace is a space (understood in a non-physical context) in which some names exist and the names don't conflict with each other (i.e., there are no two objects with the same name).\n",
    "\n",
    "# A module is a file containing Python definitions and statements which can be imported and used by another Python code.\n",
    "\n",
    "# A package is a way of structuring a module's namespace by using dotted module names. It can be said that the module is a hierarchical collection of modules.\n",
    "\n",
    "# To import a module and to make its content available, the import directive is used. Let's assume that there is a module named mod which contains a function named fun(). The following import forms can be used:\n",
    "\n",
    "# import mod\n",
    "# the clause contains the import keyword followed by the name of the imported module (or a comma-separated list of names)\n",
    "# when any of the imported module's entities (variables, functions, classes, etc.) should be used, its name must be encoded in the dotted (qualified) form, e.g. mod.fun().\n",
    "\n",
    "# from mod import fun\n",
    "# the clause starts with the phrase from module_name followed by the name (or a comma-separated list of names) of the imported module's entity/entities;\n",
    "# when any of the imported names is used inside the code, its name must be used as is, without any dots or qualification, e.g. fun();\n",
    "# Note: unless you know all the names provided by the module, you may not be able to avoid name conflicts inside your current namespace.\n",
    "\n",
    "# from mod import *\n",
    "# the clause is similar to the previously presented variant, but uses an asterisk (*) instead of any explicit name/names. The asterisk works as a wild card and implicitly imports all the module's entities;\n",
    "# the names of any of the imported entities must be used as is – no qualification is allowed.\n",
    "\n",
    "\n",
    "# A built-in function named dir() can be used to obtain an alphabetically sorted list which contains all entity names available in the module passed to the function as an argument, e.g. print(dir(math)) will print a list of the math module's contents.\n",
    "\n",
    "# The math module\n",
    "# The math module comes with the standard Python release, and contains some useful constants and functions for carrying out mathematical operations. Note: all trigonometrical functions take their arguments expressed in radians.\n",
    "# math.pi → π constant value.\n",
    "# math.e → Euler's number value.\n",
    "# math.sqrt(x) → the square root of x.\n",
    "# math.sin(x) → the sine of x.\n",
    "# math.cos(x) → the cosine of x.\n",
    "# math.tan(x) → the tangent of x.\n",
    "# math.asin(x) → the arcsine of x.\n",
    "# math.acos(x) → the arccosine of x.\n",
    "# math.atan(x) → the arctangent of x.\n",
    "# math.radians(x) → a function that converts x from degrees to radians.\n",
    "# math.degrees(x) → acting in the other direction (from radians to degrees).\n",
    "# math.sinh(x) → the hyperbolic sine.\n",
    "# math.cosh(x) → the hyperbolic cosine.\n",
    "# math.tanh(x) → the hyperbolic tangent.\n",
    "# math.asinh(x) → the hyperbolic arcsine.\n",
    "# math.acosh(x) → the hyperbolic arccosine.\n",
    "# math.atanh(x) → the hyperbolic arctangent.\n",
    "# math.exp(x) → finds the value of ex.\n",
    "# math.log(x) → the natural logarithm of x.\n",
    "# math.log(x, b) → the logarithm of x to base b.\n",
    "# math.log10(x) → the decimal logarithm of x (more precise than math.log(x, 10)).\n",
    "# log2(x) → the binary logarithm of x (more precise than math.log(x, 2)).\n",
    "# math.ceil(x) → the ceiling of x (the smallest integer greater than or equal to x).\n",
    "# math.floor(x) → the floor of x (the largest integer less than or equal to x).\n",
    "# math.trunc(x) → the value of x truncated to an integer (be careful – it's not an equivalent of either ceil or floor).\n",
    "# math.factorial(x) → returns x! (x has to be an integral and not a negative).\n",
    "# math.hypot(x, y) → returns the length of the hypotenuse of a right-angle triangle with the leg lengths equal to x and y (the same as math.sqrt(pow(x, 2) + pow(y, 2)) but more precise)."
   ]
  },
  {
   "cell_type": "markdown",
   "id": "741403dd",
   "metadata": {},
   "source": []
  }
 ],
 "metadata": {
  "language_info": {
   "name": "python"
  }
 },
 "nbformat": 4,
 "nbformat_minor": 5
}
